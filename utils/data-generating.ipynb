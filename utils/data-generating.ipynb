{
 "cells": [
  {
   "cell_type": "code",
   "execution_count": 1,
   "metadata": {},
   "outputs": [],
   "source": [
    "from tqdm import tqdm\n",
    "import json\n",
    "import numpy as np\n",
    "import pandas as pd\n",
    "import random\n",
    "\n",
    "class Node:\n",
    "    def __init__(self, num_vals, id, alpha=1.) -> None:\n",
    "        \"\"\"\n",
    "            num_vals: Int\n",
    "            id: Int\n",
    "            alpha: Float (dirichlet's alpha)\n",
    "        \"\"\"\n",
    "        self.id = id\n",
    "        self.num_vals = num_vals\n",
    "        self.local_marginal_probs = pd.DataFrame({f\"X{self.id}\": [i for i in range(num_vals)]})\n",
    "        self.parents = []\n",
    "        self.cur_val = -1\n",
    "        self.alpha = alpha\n",
    "        self.local_conditional_probs = None\n",
    "        \n",
    "    def set_parents(self, parents):\n",
    "        \"\"\"\n",
    "            parents: List[Node]\n",
    "        \"\"\"\n",
    "        # print(f\"Node {self.id} have parents: {[pa.id for pa in parents]}\")\n",
    "        self.parents = parents\n",
    "        return\n",
    "        \n",
    "    def get_level(self):\n",
    "        if len(self.parents):\n",
    "            return max([pa.get_level() for pa in self.parents]) + 1\n",
    "        else:\n",
    "            return 0\n",
    "    \n",
    "    def set_condprob(self):\n",
    "        if len(self.parents):\n",
    "            self.local_conditional_probs = self.local_marginal_probs.copy()\n",
    "            pa_comb = 1\n",
    "            for pa in self.parents:\n",
    "                pa_comb *= pa.num_vals\n",
    "                self.local_conditional_probs = self.local_conditional_probs.merge(pa.local_marginal_probs, how=\"cross\")\n",
    "            \n",
    "            # Generating conditional probability, constraints: sum (P(X=x|Z=z)) = 1 for all x\n",
    "            self.local_conditional_probs['prob'] = [1] * len(self.local_conditional_probs)\n",
    "            self.local_conditional_probs = self.local_conditional_probs.sort_values(by=[f'X{pa.id}' for pa in self.parents])\n",
    "            for i in range(pa_comb):\n",
    "                self.local_conditional_probs['prob'].iloc[self.num_vals*i:self.num_vals*(i+1)] = np.random.dirichlet([self.alpha] * self.num_vals).flatten()\n",
    "        return\n",
    "    \n",
    "    def set_margprob(self, dirichlet_alpha=1):\n",
    "        if not len(self.parents):\n",
    "            probs = np.random.dirichlet([dirichlet_alpha] * self.num_vals).flatten()\n",
    "            try:\n",
    "                old_probs = self.local_marginal_probs['prob']\n",
    "                while np.sqrt((old_probs - probs).pow(2).sum()) < 0.25:\n",
    "                    probs = np.random.dirichlet([dirichlet_alpha] * self.num_vals).flatten()\n",
    "            except:\n",
    "                pass\n",
    "                \n",
    "            self.local_marginal_probs['prob'] = probs.flatten()\n",
    "        return\n",
    "    \n",
    "    def sample(self):\n",
    "        if len(self.parents):\n",
    "            conditions = np.array([True for _ in range(len(self.local_conditional_probs))]) # type:ignore\n",
    "            for pa in self.parents:\n",
    "                select = (self.local_conditional_probs[f'X{pa.id}'] == pa.cur_val).to_numpy()   # type:ignore\n",
    "                conditions = np.logical_and(conditions,select)\n",
    "            cond_df = self.local_conditional_probs[conditions]  # type:ignore\n",
    "            self.cur_val = np.random.choice(cond_df[f'X{self.id}'], size=1, p=cond_df[f'prob']).item()\n",
    "        else:\n",
    "            self.cur_val = np.random.choice(self.local_marginal_probs[f'X{self.id}'], size=1, p=self.local_marginal_probs[f'prob']).item()\n",
    "        return\n",
    "        \n",
    "\n",
    "class DAG:\n",
    "    def __init__(self, adj_mtx, max_numvals, alpha) -> None:\n",
    "        self.adj_mtx = adj_mtx\n",
    "        self.nodes = [Node(np.random.randint(2, max_numvals), i + 1, alpha) for i in range(adj_mtx.shape[0])]\n",
    "        self.__endogeneous_nodes = []\n",
    "        self.__render_adjmtx()\n",
    "        self.__order_nodes()\n",
    "        self.__init_condprobs()\n",
    "        self.__init_margprob()\n",
    "        \n",
    "    def __render_adjmtx(self):\n",
    "        for i in range(self.adj_mtx.shape[0]):\n",
    "            parents = [self.nodes[j] for j in range(self.adj_mtx.shape[0]) if self.adj_mtx[j][i] == 1]\n",
    "            self.nodes[i].set_parents(parents)  # type:ignore\n",
    "            if len(parents) == 0:\n",
    "                self.__endogeneous_nodes.append(self.nodes[i])\n",
    "        return\n",
    "    \n",
    "    def __order_nodes(self):\n",
    "        self.nodes.sort(key=lambda item: item.get_level())\n",
    "        return\n",
    "    \n",
    "    def __init_condprobs(self):\n",
    "        for node in self.nodes:\n",
    "            node.set_condprob()    # type:ignore\n",
    "        return\n",
    "    \n",
    "    def __init_margprob(self):\n",
    "        for node in self.nodes:\n",
    "            node.set_margprob(1.0)    # type:ignore\n",
    "        return\n",
    "    \n",
    "    def reinit_endoprob(self, dirichlet_alpha):\n",
    "        chosen_id = np.random.choice([i for i in range(len(self.__endogeneous_nodes))], size=1).item()\n",
    "        self.__endogeneous_nodes[chosen_id].set_margprob(dirichlet_alpha)\n",
    "        return\n",
    "    \n",
    "    def disseminate(self, n):\n",
    "        df = pd.DataFrame(columns=[f'X{node.id}' for node in self.nodes])\n",
    "        for i in tqdm(range(n), leave=False):\n",
    "            res = []\n",
    "            for node in self.nodes:\n",
    "                # print(f\"X{node.id}-->\", end=\"\")\n",
    "                node.sample()\n",
    "                res.append(node.cur_val)\n",
    "            # print(\"|\")\n",
    "            df.loc[len(df),:] = res  # type:ignore\n",
    "        return df"
   ]
  },
  {
   "cell_type": "code",
   "execution_count": 2,
   "metadata": {},
   "outputs": [],
   "source": [
    "import os\n",
    "from pathlib import Path\n",
    "from utils import is_acyclic\n",
    "\n",
    "def gen_data(dag, n=10000, savepath=\"./data\", filename=\"output.csv\"):\n",
    "    df = dag.disseminate(n)\n",
    "    \n",
    "    if filename is not None:\n",
    "        res_path = os.path.join(savepath)\n",
    "        if not Path(res_path).exists():\n",
    "            os.makedirs(res_path)\n",
    "        \n",
    "        df.to_csv(os.path.join(res_path, filename), index=False)\n",
    "    \n",
    "    return df"
   ]
  },
  {
   "cell_type": "code",
   "execution_count": 3,
   "metadata": {},
   "outputs": [],
   "source": [
    "# from utils import compute_mll\n",
    "from typing import List\n",
    "\n",
    "def compute_mll(summary_with_ch: pd.DataFrame, potential_parent: list, num_env):\n",
    "    if len(potential_parent):\n",
    "        marginalized_ch = summary_with_ch.groupby(potential_parent)['count'].sum().reset_index()\n",
    "        output = summary_with_ch.merge(marginalized_ch, on=potential_parent, how='left')            \n",
    "        output.insert(0, f'probs_{num_env}', output['count_x']/output['count_y'])\n",
    "        output.insert(0, f'joint_{num_env}', output['count_x']/output['count_x'].sum())\n",
    "        mll = np.array(output['count_x']).dot(np.log(output[f'probs_{num_env}'])).item()\n",
    "        output = output.drop(['count_x', 'count_y'], axis=1)\n",
    "        # return mll, output.rename({'count_y': f'count_y{num_env}', 'count_x': f'count_x{num_env}'}, axis=1)\n",
    "        return mll, output\n",
    "    else:\n",
    "        output = summary_with_ch.copy()\n",
    "        output.insert(0, f'probs_{num_env}', output['count']/output['count'].sum())\n",
    "        mll = np.array(output['count']).dot(np.log(output[f'probs_{num_env}'])).item()\n",
    "        output = output.drop(['count'], axis=1)\n",
    "        return mll, output\n",
    "\n",
    "\n",
    "def compute_variance_viasilos(silos: List[pd.DataFrame], variable: str, parents: list, verbose=False):\n",
    "    conditional_probs_record = silos[0][parents + [variable]].groupby(parents + [variable]).count().reset_index()\n",
    "    mll_list = []\n",
    "    env = 0\n",
    "    for data in silos:\n",
    "        vertical_sampled_data = data[parents + [variable]]\n",
    "        vertical_sampled_data.insert(0, 'count', [1] * len(vertical_sampled_data))\n",
    "        \n",
    "        summary_with_ch = vertical_sampled_data.groupby(parents + [variable])['count'].sum().reset_index()\n",
    "        mll, output = compute_mll(summary_with_ch, parents, env)\n",
    "        conditional_probs_record = conditional_probs_record.merge(output, on=parents + [variable], how='left')\n",
    "        mll_list.append(mll)\n",
    "        env += 1\n",
    "            \n",
    "    mean_mll = np.mean(mll_list)\n",
    "    var_avg = conditional_probs_record.iloc[:, len(parents) + 1:].var(axis=1, skipna=True).mean()\n",
    "    if verbose:\n",
    "        print(conditional_probs_record)\n",
    "    return var_avg, mean_mll, conditional_probs_record\n",
    "\n",
    "\n",
    "def compute_weighted_variance_viasilos(silos: List[pd.DataFrame], variable: str, parents: list, verbose=False):\n",
    "    variance, _, df = compute_variance_viasilos(silos, variable, parents, verbose=verbose)\n",
    "    if len(parents):\n",
    "        joint_mat = np.array([df[f'joint_{i}'] for i in range(len(silos))]).T\n",
    "        probs_mat = np.array([df[f'probs_{i}'] for i in range(len(silos))]).T\n",
    "        probs_mean = np.array([np.mean(probs_mat[i][~np.isnan(probs_mat[i])], keepdims=True) for i in range(probs_mat.shape[0])])\n",
    "        prod = joint_mat * (probs_mat - probs_mean)**2\n",
    "        return np.mean(prod[~np.isnan(prod)])\n",
    "    else:\n",
    "        return variance\n",
    "\n",
    "\n",
    "def get_condprob(dag, node_id):\n",
    "    if len(dag.nodes[node_id].parents):\n",
    "        return dag.nodes[node_id].local_conditional_probs\n",
    "    else:\n",
    "        return dag.nodes[node_id].local_marginal_probs\n",
    "    \n",
    "\n",
    "def compute_condprob(df: pd.DataFrame, variable: str, conditioned_vars: list):\n",
    "    vertical_sampled_data = df[conditioned_vars + [variable]]\n",
    "    vertical_sampled_data.insert(0, 'count', [1] * len(vertical_sampled_data))\n",
    "    summary_with_ch = vertical_sampled_data.groupby([variable] + conditioned_vars)['count'].sum().reset_index()\n",
    "    _, output = compute_mll(summary_with_ch, conditioned_vars, 0)\n",
    "    return output"
   ]
  },
  {
   "cell_type": "markdown",
   "metadata": {},
   "source": [
    "### Generic graph"
   ]
  },
  {
   "cell_type": "code",
   "execution_count": 8,
   "metadata": {},
   "outputs": [
    {
     "name": "stderr",
     "output_type": "stream",
     "text": [
      "INFO:numexpr.utils:Note: NumExpr detected 64 cores but \"NUMEXPR_MAX_THREADS\" not set, so enforcing safe limit of 8.\n",
      "INFO:numexpr.utils:Note: NumExpr detected 64 cores but \"NUMEXPR_MAX_THREADS\" not set, so enforcing safe limit of 8.\n",
      "INFO:numexpr.utils:Note: NumExpr detected 64 cores but \"NUMEXPR_MAX_THREADS\" not set, so enforcing safe limit of 8.\n",
      "INFO:numexpr.utils:Note: NumExpr detected 64 cores but \"NUMEXPR_MAX_THREADS\" not set, so enforcing safe limit of 8.\n",
      "INFO:numexpr.utils:Note: NumExpr detected 64 cores but \"NUMEXPR_MAX_THREADS\" not set, so enforcing safe limit of 8.\n",
      "INFO:numexpr.utils:Note: NumExpr detected 64 cores but \"NUMEXPR_MAX_THREADS\" not set, so enforcing safe limit of 8.\n",
      "INFO:numexpr.utils:Note: NumExpr detected 64 cores but \"NUMEXPR_MAX_THREADS\" not set, so enforcing safe limit of 8.\n",
      "INFO:numexpr.utils:Note: NumExpr detected 64 cores but \"NUMEXPR_MAX_THREADS\" not set, so enforcing safe limit of 8.\n",
      "INFO:numexpr.utils:Note: NumExpr detected 64 cores but \"NUMEXPR_MAX_THREADS\" not set, so enforcing safe limit of 8.\n",
      "INFO:numexpr.utils:Note: NumExpr detected 64 cores but \"NUMEXPR_MAX_THREADS\" not set, so enforcing safe limit of 8.\n",
      "INFO:numexpr.utils:Note: NumExpr detected 64 cores but \"NUMEXPR_MAX_THREADS\" not set, so enforcing safe limit of 8.\n",
      "INFO:numexpr.utils:Note: NumExpr detected 64 cores but \"NUMEXPR_MAX_THREADS\" not set, so enforcing safe limit of 8.\n",
      "INFO:numexpr.utils:Note: NumExpr detected 64 cores but \"NUMEXPR_MAX_THREADS\" not set, so enforcing safe limit of 8.\n",
      "INFO:numexpr.utils:Note: NumExpr detected 64 cores but \"NUMEXPR_MAX_THREADS\" not set, so enforcing safe limit of 8.\n",
      "INFO:numexpr.utils:Note: NumExpr detected 64 cores but \"NUMEXPR_MAX_THREADS\" not set, so enforcing safe limit of 8.\n",
      "INFO:numexpr.utils:Note: NumExpr detected 64 cores but \"NUMEXPR_MAX_THREADS\" not set, so enforcing safe limit of 8.\n",
      "INFO:numexpr.utils:Note: NumExpr detected 64 cores but \"NUMEXPR_MAX_THREADS\" not set, so enforcing safe limit of 8.\n",
      "INFO:numexpr.utils:Note: NumExpr detected 64 cores but \"NUMEXPR_MAX_THREADS\" not set, so enforcing safe limit of 8.\n",
      "INFO:numexpr.utils:Note: NumExpr detected 64 cores but \"NUMEXPR_MAX_THREADS\" not set, so enforcing safe limit of 8.\n",
      "INFO:numexpr.utils:Note: NumExpr detected 64 cores but \"NUMEXPR_MAX_THREADS\" not set, so enforcing safe limit of 8.\n",
      "INFO:numexpr.utils:Note: NumExpr detected 64 cores but \"NUMEXPR_MAX_THREADS\" not set, so enforcing safe limit of 8.\n",
      "INFO:numexpr.utils:Note: NumExpr detected 64 cores but \"NUMEXPR_MAX_THREADS\" not set, so enforcing safe limit of 8.\n",
      "INFO:numexpr.utils:Note: NumExpr detected 64 cores but \"NUMEXPR_MAX_THREADS\" not set, so enforcing safe limit of 8.\n",
      "INFO:numexpr.utils:Note: NumExpr detected 64 cores but \"NUMEXPR_MAX_THREADS\" not set, so enforcing safe limit of 8.\n",
      "INFO:numexpr.utils:Note: NumExpr detected 64 cores but \"NUMEXPR_MAX_THREADS\" not set, so enforcing safe limit of 8.\n",
      "INFO:numexpr.utils:Note: NumExpr detected 64 cores but \"NUMEXPR_MAX_THREADS\" not set, so enforcing safe limit of 8.\n",
      "INFO:numexpr.utils:Note: NumExpr detected 64 cores but \"NUMEXPR_MAX_THREADS\" not set, so enforcing safe limit of 8.\n",
      "INFO:numexpr.utils:Note: NumExpr detected 64 cores but \"NUMEXPR_MAX_THREADS\" not set, so enforcing safe limit of 8.\n",
      "INFO:numexpr.utils:Note: NumExpr detected 64 cores but \"NUMEXPR_MAX_THREADS\" not set, so enforcing safe limit of 8.\n",
      "INFO:numexpr.utils:Note: NumExpr detected 64 cores but \"NUMEXPR_MAX_THREADS\" not set, so enforcing safe limit of 8.\n",
      "INFO:numexpr.utils:Note: NumExpr detected 64 cores but \"NUMEXPR_MAX_THREADS\" not set, so enforcing safe limit of 8.\n",
      "INFO:numexpr.utils:Note: NumExpr detected 64 cores but \"NUMEXPR_MAX_THREADS\" not set, so enforcing safe limit of 8.\n",
      "INFO:numexpr.utils:Note: NumExpr detected 64 cores but \"NUMEXPR_MAX_THREADS\" not set, so enforcing safe limit of 8.\n",
      "INFO:numexpr.utils:Note: NumExpr detected 64 cores but \"NUMEXPR_MAX_THREADS\" not set, so enforcing safe limit of 8.\n",
      "INFO:numexpr.utils:Note: NumExpr detected 64 cores but \"NUMEXPR_MAX_THREADS\" not set, so enforcing safe limit of 8.\n",
      "INFO:numexpr.utils:Note: NumExpr detected 64 cores but \"NUMEXPR_MAX_THREADS\" not set, so enforcing safe limit of 8.\n",
      "INFO:numexpr.utils:Note: NumExpr detected 64 cores but \"NUMEXPR_MAX_THREADS\" not set, so enforcing safe limit of 8.\n",
      "INFO:numexpr.utils:Note: NumExpr detected 64 cores but \"NUMEXPR_MAX_THREADS\" not set, so enforcing safe limit of 8.\n",
      "INFO:numexpr.utils:Note: NumExpr detected 64 cores but \"NUMEXPR_MAX_THREADS\" not set, so enforcing safe limit of 8.\n",
      "INFO:numexpr.utils:Note: NumExpr detected 64 cores but \"NUMEXPR_MAX_THREADS\" not set, so enforcing safe limit of 8.\n",
      "INFO:numexpr.utils:Note: NumExpr detected 64 cores but \"NUMEXPR_MAX_THREADS\" not set, so enforcing safe limit of 8.\n",
      "INFO:numexpr.utils:Note: NumExpr detected 64 cores but \"NUMEXPR_MAX_THREADS\" not set, so enforcing safe limit of 8.\n",
      "INFO:numexpr.utils:Note: NumExpr detected 64 cores but \"NUMEXPR_MAX_THREADS\" not set, so enforcing safe limit of 8.\n",
      "INFO:numexpr.utils:Note: NumExpr detected 64 cores but \"NUMEXPR_MAX_THREADS\" not set, so enforcing safe limit of 8.\n",
      "INFO:numexpr.utils:Note: NumExpr detected 64 cores but \"NUMEXPR_MAX_THREADS\" not set, so enforcing safe limit of 8.\n",
      "INFO:numexpr.utils:Note: NumExpr detected 64 cores but \"NUMEXPR_MAX_THREADS\" not set, so enforcing safe limit of 8.\n",
      "INFO:numexpr.utils:Note: NumExpr detected 64 cores but \"NUMEXPR_MAX_THREADS\" not set, so enforcing safe limit of 8.\n",
      "INFO:numexpr.utils:Note: NumExpr detected 64 cores but \"NUMEXPR_MAX_THREADS\" not set, so enforcing safe limit of 8.\n",
      "INFO:numexpr.utils:Note: NumExpr detected 64 cores but \"NUMEXPR_MAX_THREADS\" not set, so enforcing safe limit of 8.\n",
      "INFO:numexpr.utils:Note: NumExpr detected 64 cores but \"NUMEXPR_MAX_THREADS\" not set, so enforcing safe limit of 8.\n",
      "INFO:numexpr.utils:Note: NumExpr detected 64 cores but \"NUMEXPR_MAX_THREADS\" not set, so enforcing safe limit of 8.\n",
      "INFO:numexpr.utils:Note: NumExpr detected 64 cores but \"NUMEXPR_MAX_THREADS\" not set, so enforcing safe limit of 8.\n",
      "INFO:numexpr.utils:Note: NumExpr detected 64 cores but \"NUMEXPR_MAX_THREADS\" not set, so enforcing safe limit of 8.\n",
      "INFO:numexpr.utils:Note: NumExpr detected 64 cores but \"NUMEXPR_MAX_THREADS\" not set, so enforcing safe limit of 8.\n",
      "INFO:numexpr.utils:Note: NumExpr detected 64 cores but \"NUMEXPR_MAX_THREADS\" not set, so enforcing safe limit of 8.\n",
      "INFO:numexpr.utils:Note: NumExpr detected 64 cores but \"NUMEXPR_MAX_THREADS\" not set, so enforcing safe limit of 8.\n",
      "INFO:numexpr.utils:Note: NumExpr detected 64 cores but \"NUMEXPR_MAX_THREADS\" not set, so enforcing safe limit of 8.\n",
      "INFO:numexpr.utils:Note: NumExpr detected 64 cores but \"NUMEXPR_MAX_THREADS\" not set, so enforcing safe limit of 8.\n",
      "INFO:numexpr.utils:Note: NumExpr detected 64 cores but \"NUMEXPR_MAX_THREADS\" not set, so enforcing safe limit of 8.\n",
      "INFO:numexpr.utils:Note: NumExpr detected 64 cores but \"NUMEXPR_MAX_THREADS\" not set, so enforcing safe limit of 8.\n",
      "INFO:numexpr.utils:Note: NumExpr detected 64 cores but \"NUMEXPR_MAX_THREADS\" not set, so enforcing safe limit of 8.\n",
      "INFO:numexpr.utils:Note: NumExpr detected 64 cores but \"NUMEXPR_MAX_THREADS\" not set, so enforcing safe limit of 8.\n",
      "INFO:numexpr.utils:Note: NumExpr detected 64 cores but \"NUMEXPR_MAX_THREADS\" not set, so enforcing safe limit of 8.\n",
      "INFO:numexpr.utils:Note: NumExpr detected 64 cores but \"NUMEXPR_MAX_THREADS\" not set, so enforcing safe limit of 8.\n"
     ]
    }
   ],
   "source": [
    "import bnlearn as bn\n",
    "\n",
    "model = bn.import_DAG('../data/munin.bif', verbose=0)"
   ]
  },
  {
   "cell_type": "code",
   "execution_count": 9,
   "metadata": {},
   "outputs": [],
   "source": [
    "dataname = \"munin\"\n",
    "adj_mtx = model['adjmat'].to_numpy() * 1\n",
    "# data = json.load(open(f\"../CausalBKAI/data/TestData/bnlearn_discrete_10000/truth_dag_adj/{dataname}.json\", \"r\"))\n",
    "# adj_mtx = np.array(data['Adj'])\n",
    "\n",
    "\n",
    "# adj_mtx = np.array(\n",
    "#     [[0,1,0],\n",
    "#      [0,0,1],\n",
    "#      [0,0,0]]\n",
    "# )\n",
    "\n",
    "mi = 3\n",
    "di = 5\n",
    "\n",
    "dag = DAG(adj_mtx, max_numvals=mi, alpha=di)\n",
    "# get_condprob(dag, 2)"
   ]
  },
  {
   "cell_type": "code",
   "execution_count": 10,
   "metadata": {},
   "outputs": [
    {
     "name": "stderr",
     "output_type": "stream",
     "text": [
      "                                                   \r"
     ]
    }
   ],
   "source": [
    "# track_endo = get_condprob(dag, 0)[['X1']].groupby(['X1']).sum().reset_index()\n",
    "n = 10\n",
    "silos = []\n",
    "for i in range(n):\n",
    "    dag.reinit_endoprob(dirichlet_alpha=di)\n",
    "    # track_endo = track_endo.merge(get_condprob(dag, 0).rename({\"prob\": f\"prob{i}\"}, axis=1), how='left', on=['X1'])\n",
    "    df = gen_data(dag, 5000, savepath=f\"../data/distributed/{dataname}/m{mi}_d{di}_n{n}\", filename=f\"silo-{i}.csv\") # f\"silo-{i}.csv\"\n",
    "    silos.append(df)\n",
    "\n",
    "# track_endo"
   ]
  },
  {
   "cell_type": "code",
   "execution_count": 11,
   "metadata": {},
   "outputs": [],
   "source": [
    "np.savetxt(f\"../data/distributed/{dataname}/adj.txt\", adj_mtx)"
   ]
  },
  {
   "cell_type": "code",
   "execution_count": 29,
   "metadata": {},
   "outputs": [],
   "source": []
  },
  {
   "cell_type": "code",
   "execution_count": 24,
   "metadata": {},
   "outputs": [
    {
     "data": {
      "text/html": [
       "<div>\n",
       "<style scoped>\n",
       "    .dataframe tbody tr th:only-of-type {\n",
       "        vertical-align: middle;\n",
       "    }\n",
       "\n",
       "    .dataframe tbody tr th {\n",
       "        vertical-align: top;\n",
       "    }\n",
       "\n",
       "    .dataframe thead th {\n",
       "        text-align: right;\n",
       "    }\n",
       "</style>\n",
       "<table border=\"1\" class=\"dataframe\">\n",
       "  <thead>\n",
       "    <tr style=\"text-align: right;\">\n",
       "      <th></th>\n",
       "      <th>X1</th>\n",
       "      <th>prob</th>\n",
       "    </tr>\n",
       "  </thead>\n",
       "  <tbody>\n",
       "    <tr>\n",
       "      <th>0</th>\n",
       "      <td>0</td>\n",
       "      <td>0.29255</td>\n",
       "    </tr>\n",
       "    <tr>\n",
       "      <th>1</th>\n",
       "      <td>1</td>\n",
       "      <td>0.70745</td>\n",
       "    </tr>\n",
       "  </tbody>\n",
       "</table>\n",
       "</div>"
      ],
      "text/plain": [
       "   X1     prob\n",
       "0   0  0.29255\n",
       "1   1  0.70745"
      ]
     },
     "execution_count": 24,
     "metadata": {},
     "output_type": "execute_result"
    }
   ],
   "source": [
    "get_condprob(dag, 0)"
   ]
  },
  {
   "cell_type": "code",
   "execution_count": 11,
   "metadata": {},
   "outputs": [
    {
     "data": {
      "text/html": [
       "<div>\n",
       "<style scoped>\n",
       "    .dataframe tbody tr th:only-of-type {\n",
       "        vertical-align: middle;\n",
       "    }\n",
       "\n",
       "    .dataframe tbody tr th {\n",
       "        vertical-align: top;\n",
       "    }\n",
       "\n",
       "    .dataframe thead th {\n",
       "        text-align: right;\n",
       "    }\n",
       "</style>\n",
       "<table border=\"1\" class=\"dataframe\">\n",
       "  <thead>\n",
       "    <tr style=\"text-align: right;\">\n",
       "      <th></th>\n",
       "      <th>X2</th>\n",
       "      <th>X1</th>\n",
       "      <th>prob</th>\n",
       "    </tr>\n",
       "  </thead>\n",
       "  <tbody>\n",
       "    <tr>\n",
       "      <th>0</th>\n",
       "      <td>0</td>\n",
       "      <td>0</td>\n",
       "      <td>0.225861</td>\n",
       "    </tr>\n",
       "    <tr>\n",
       "      <th>2</th>\n",
       "      <td>1</td>\n",
       "      <td>0</td>\n",
       "      <td>0.774139</td>\n",
       "    </tr>\n",
       "    <tr>\n",
       "      <th>1</th>\n",
       "      <td>0</td>\n",
       "      <td>1</td>\n",
       "      <td>0.362888</td>\n",
       "    </tr>\n",
       "    <tr>\n",
       "      <th>3</th>\n",
       "      <td>1</td>\n",
       "      <td>1</td>\n",
       "      <td>0.637112</td>\n",
       "    </tr>\n",
       "  </tbody>\n",
       "</table>\n",
       "</div>"
      ],
      "text/plain": [
       "   X2  X1      prob\n",
       "0   0   0  0.225861\n",
       "2   1   0  0.774139\n",
       "1   0   1  0.362888\n",
       "3   1   1  0.637112"
      ]
     },
     "execution_count": 11,
     "metadata": {},
     "output_type": "execute_result"
    }
   ],
   "source": [
    "get_condprob(dag, 1)"
   ]
  },
  {
   "cell_type": "code",
   "execution_count": 12,
   "metadata": {},
   "outputs": [
    {
     "data": {
      "text/html": [
       "<div>\n",
       "<style scoped>\n",
       "    .dataframe tbody tr th:only-of-type {\n",
       "        vertical-align: middle;\n",
       "    }\n",
       "\n",
       "    .dataframe tbody tr th {\n",
       "        vertical-align: top;\n",
       "    }\n",
       "\n",
       "    .dataframe thead th {\n",
       "        text-align: right;\n",
       "    }\n",
       "</style>\n",
       "<table border=\"1\" class=\"dataframe\">\n",
       "  <thead>\n",
       "    <tr style=\"text-align: right;\">\n",
       "      <th></th>\n",
       "      <th>X3</th>\n",
       "      <th>X2</th>\n",
       "      <th>prob</th>\n",
       "    </tr>\n",
       "  </thead>\n",
       "  <tbody>\n",
       "    <tr>\n",
       "      <th>0</th>\n",
       "      <td>0</td>\n",
       "      <td>0</td>\n",
       "      <td>0.634269</td>\n",
       "    </tr>\n",
       "    <tr>\n",
       "      <th>2</th>\n",
       "      <td>1</td>\n",
       "      <td>0</td>\n",
       "      <td>0.365731</td>\n",
       "    </tr>\n",
       "    <tr>\n",
       "      <th>1</th>\n",
       "      <td>0</td>\n",
       "      <td>1</td>\n",
       "      <td>0.439450</td>\n",
       "    </tr>\n",
       "    <tr>\n",
       "      <th>3</th>\n",
       "      <td>1</td>\n",
       "      <td>1</td>\n",
       "      <td>0.560550</td>\n",
       "    </tr>\n",
       "  </tbody>\n",
       "</table>\n",
       "</div>"
      ],
      "text/plain": [
       "   X3  X2      prob\n",
       "0   0   0  0.634269\n",
       "2   1   0  0.365731\n",
       "1   0   1  0.439450\n",
       "3   1   1  0.560550"
      ]
     },
     "execution_count": 12,
     "metadata": {},
     "output_type": "execute_result"
    }
   ],
   "source": [
    "get_condprob(dag, 2)"
   ]
  },
  {
   "cell_type": "code",
   "execution_count": 27,
   "metadata": {},
   "outputs": [
    {
     "name": "stdout",
     "output_type": "stream",
     "text": [
      "   X1  X2  joint_0   probs_0  joint_1   probs_1  joint_2   probs_2  joint_3  \\\n",
      "0   0   0   0.1263  0.226060   0.0736  0.219048   0.1219  0.224866   0.1690   \n",
      "1   0   1   0.4324  0.773940   0.2624  0.780952   0.4202  0.775134   0.5912   \n",
      "2   1   0   0.1653  0.374575   0.2357  0.354970   0.1644  0.359030   0.0875   \n",
      "3   1   1   0.2760  0.625425   0.4283  0.645030   0.2935  0.640970   0.1523   \n",
      "\n",
      "    probs_3  joint_4   probs_4  \n",
      "0  0.222310   0.0673  0.228834  \n",
      "1  0.777690   0.2268  0.771166  \n",
      "2  0.364887   0.2574  0.364641  \n",
      "3  0.635113   0.4485  0.635359  \n"
     ]
    },
    {
     "data": {
      "text/plain": [
       "6.678034804858005e-06"
      ]
     },
     "execution_count": 27,
     "metadata": {},
     "output_type": "execute_result"
    }
   ],
   "source": [
    "variance = compute_weighted_variance_viasilos(silos, 'X2', ['X1'], verbose=True)\n",
    "variance"
   ]
  },
  {
   "cell_type": "code",
   "execution_count": 28,
   "metadata": {},
   "outputs": [
    {
     "name": "stdout",
     "output_type": "stream",
     "text": [
      "   X2  X1  joint_0   probs_0  joint_1   probs_1  joint_2   probs_2  joint_3  \\\n",
      "0   0   0   0.1263  0.433128   0.0736  0.237957   0.1219  0.425777   0.1690   \n",
      "1   0   1   0.1653  0.566872   0.2357  0.762043   0.1644  0.574223   0.0875   \n",
      "2   1   0   0.4324  0.610390   0.2624  0.379904   0.4202  0.588763   0.5912   \n",
      "3   1   1   0.2760  0.389610   0.4283  0.620096   0.2935  0.411237   0.1523   \n",
      "\n",
      "    probs_3  joint_4   probs_4  \n",
      "0  0.658869   0.0673  0.207268  \n",
      "1  0.341131   0.2574  0.792732  \n",
      "2  0.795158   0.2268  0.335851  \n",
      "3  0.204842   0.4485  0.664149  \n"
     ]
    },
    {
     "data": {
      "text/plain": [
       "0.006844981799618394"
      ]
     },
     "execution_count": 28,
     "metadata": {},
     "output_type": "execute_result"
    }
   ],
   "source": [
    "variance = compute_weighted_variance_viasilos(silos, 'X1', ['X2'], verbose=True)\n",
    "variance"
   ]
  },
  {
   "cell_type": "code",
   "execution_count": 78,
   "metadata": {},
   "outputs": [
    {
     "data": {
      "text/plain": [
       "8.748477280948522e-05"
      ]
     },
     "execution_count": 78,
     "metadata": {},
     "output_type": "execute_result"
    }
   ],
   "source": [
    "variance= compute_weighted_variance_viasilos(silos, 'X3', ['X1', 'X2'], verbose=False)\n",
    "variance"
   ]
  },
  {
   "cell_type": "markdown",
   "metadata": {},
   "source": [
    "### Synthesized graph"
   ]
  },
  {
   "cell_type": "code",
   "execution_count": 1,
   "metadata": {},
   "outputs": [],
   "source": [
    "import networkx as nx\n",
    "import numpy as np\n",
    "import random"
   ]
  },
  {
   "cell_type": "code",
   "execution_count": 2,
   "metadata": {},
   "outputs": [],
   "source": [
    "num_node = 20\n",
    "p = 0.2"
   ]
  },
  {
   "cell_type": "code",
   "execution_count": 3,
   "metadata": {},
   "outputs": [],
   "source": [
    "graph = nx.erdos_renyi_graph(n=num_node, p=p, seed=0, directed=True)"
   ]
  },
  {
   "cell_type": "code",
   "execution_count": 4,
   "metadata": {},
   "outputs": [],
   "source": [
    "try:\n",
    "    while True:\n",
    "        cycle_list = nx.find_cycle(graph, orientation='original')\n",
    "        if len(cycle_list):\n",
    "            random.shuffle(cycle_list)\n",
    "            a, b, type = cycle_list[0]\n",
    "            graph.remove_edge(a, b)\n",
    "        else:\n",
    "            break\n",
    "except:\n",
    "    pass"
   ]
  },
  {
   "cell_type": "code",
   "execution_count": 5,
   "metadata": {},
   "outputs": [
    {
     "name": "stdout",
     "output_type": "stream",
     "text": [
      "7.0 6.0\n"
     ]
    }
   ],
   "source": [
    "adj_mtx = np.zeros([num_node, num_node])\n",
    "for edge in graph.edges:\n",
    "    a, b = edge\n",
    "    adj_mtx[a][b] = 1\n",
    "    \n",
    "outdegrees = np.sum(adj_mtx, axis=0, keepdims=True)\n",
    "indegrees = np.sum(adj_mtx, axis=1, keepdims=True)\n",
    "\n",
    "print(np.max(outdegrees), np.max(indegrees))\n",
    "\n",
    "if outdegrees.max() < indegrees.max():\n",
    "    adj_mtx = adj_mtx.T"
   ]
  },
  {
   "cell_type": "code",
   "execution_count": 8,
   "metadata": {},
   "outputs": [],
   "source": [
    "mi = 3\n",
    "di = 1\n",
    "dag = DAG(adj_mtx, max_numvals=mi, alpha=di)"
   ]
  },
  {
   "cell_type": "code",
   "execution_count": 9,
   "metadata": {},
   "outputs": [
    {
     "name": "stderr",
     "output_type": "stream",
     "text": [
      "                                                    \r"
     ]
    },
    {
     "ename": "FileNotFoundError",
     "evalue": "[Errno 2] No such file or directory: './data/distributed/erdos_renyi/d{num_node}_p{p}/adj.txt'",
     "output_type": "error",
     "traceback": [
      "\u001b[0;31m---------------------------------------------------------------------------\u001b[0m",
      "\u001b[0;31mFileNotFoundError\u001b[0m                         Traceback (most recent call last)",
      "Cell \u001b[0;32mIn[9], line 8\u001b[0m\n\u001b[1;32m      5\u001b[0m     df \u001b[38;5;241m=\u001b[39m gen_data(dag, \u001b[38;5;241m5000\u001b[39m, savepath\u001b[38;5;241m=\u001b[39m\u001b[38;5;124mf\u001b[39m\u001b[38;5;124m\"\u001b[39m\u001b[38;5;124m./data/distributed/erdos_renyi/d\u001b[39m\u001b[38;5;132;01m{\u001b[39;00mnum_node\u001b[38;5;132;01m}\u001b[39;00m\u001b[38;5;124m_p\u001b[39m\u001b[38;5;132;01m{\u001b[39;00mp\u001b[38;5;132;01m}\u001b[39;00m\u001b[38;5;124m/m\u001b[39m\u001b[38;5;132;01m{\u001b[39;00mmi\u001b[38;5;132;01m}\u001b[39;00m\u001b[38;5;124m_d\u001b[39m\u001b[38;5;132;01m{\u001b[39;00mdi\u001b[38;5;132;01m}\u001b[39;00m\u001b[38;5;124m_n\u001b[39m\u001b[38;5;132;01m{\u001b[39;00mn\u001b[38;5;132;01m}\u001b[39;00m\u001b[38;5;124m\"\u001b[39m, filename\u001b[38;5;241m=\u001b[39m\u001b[38;5;124mf\u001b[39m\u001b[38;5;124m\"\u001b[39m\u001b[38;5;124msilo-\u001b[39m\u001b[38;5;132;01m{\u001b[39;00mi\u001b[38;5;132;01m}\u001b[39;00m\u001b[38;5;124m.csv\u001b[39m\u001b[38;5;124m\"\u001b[39m) \u001b[38;5;66;03m# f\"silo-{i}.csv\"\u001b[39;00m\n\u001b[1;32m      6\u001b[0m     \u001b[38;5;66;03m# silos.append(df)\u001b[39;00m\n\u001b[0;32m----> 8\u001b[0m \u001b[38;5;28;01mwith\u001b[39;00m \u001b[38;5;28;43mopen\u001b[39;49m\u001b[43m(\u001b[49m\u001b[38;5;124;43m\"\u001b[39;49m\u001b[38;5;124;43m./data/distributed/erdos_renyi/d\u001b[39;49m\u001b[38;5;132;43;01m{num_node}\u001b[39;49;00m\u001b[38;5;124;43m_p\u001b[39;49m\u001b[38;5;132;43;01m{p}\u001b[39;49;00m\u001b[38;5;124;43m/adj.txt\u001b[39;49m\u001b[38;5;124;43m\"\u001b[39;49m\u001b[43m,\u001b[49m\u001b[43m \u001b[49m\u001b[38;5;124;43m\"\u001b[39;49m\u001b[38;5;124;43mw\u001b[39;49m\u001b[38;5;124;43m\"\u001b[39;49m\u001b[43m)\u001b[49m \u001b[38;5;28;01mas\u001b[39;00m f:\n\u001b[1;32m      9\u001b[0m     np\u001b[38;5;241m.\u001b[39msavetxt(f, adj_mtx)\n",
      "File \u001b[0;32m~/miniconda3/envs/easyFL/lib/python3.8/site-packages/IPython/core/interactiveshell.py:284\u001b[0m, in \u001b[0;36m_modified_open\u001b[0;34m(file, *args, **kwargs)\u001b[0m\n\u001b[1;32m    277\u001b[0m \u001b[38;5;28;01mif\u001b[39;00m file \u001b[38;5;129;01min\u001b[39;00m {\u001b[38;5;241m0\u001b[39m, \u001b[38;5;241m1\u001b[39m, \u001b[38;5;241m2\u001b[39m}:\n\u001b[1;32m    278\u001b[0m     \u001b[38;5;28;01mraise\u001b[39;00m \u001b[38;5;167;01mValueError\u001b[39;00m(\n\u001b[1;32m    279\u001b[0m         \u001b[38;5;124mf\u001b[39m\u001b[38;5;124m\"\u001b[39m\u001b[38;5;124mIPython won\u001b[39m\u001b[38;5;124m'\u001b[39m\u001b[38;5;124mt let you open fd=\u001b[39m\u001b[38;5;132;01m{\u001b[39;00mfile\u001b[38;5;132;01m}\u001b[39;00m\u001b[38;5;124m by default \u001b[39m\u001b[38;5;124m\"\u001b[39m\n\u001b[1;32m    280\u001b[0m         \u001b[38;5;124m\"\u001b[39m\u001b[38;5;124mas it is likely to crash IPython. If you know what you are doing, \u001b[39m\u001b[38;5;124m\"\u001b[39m\n\u001b[1;32m    281\u001b[0m         \u001b[38;5;124m\"\u001b[39m\u001b[38;5;124myou can use builtins\u001b[39m\u001b[38;5;124m'\u001b[39m\u001b[38;5;124m open.\u001b[39m\u001b[38;5;124m\"\u001b[39m\n\u001b[1;32m    282\u001b[0m     )\n\u001b[0;32m--> 284\u001b[0m \u001b[38;5;28;01mreturn\u001b[39;00m \u001b[43mio_open\u001b[49m\u001b[43m(\u001b[49m\u001b[43mfile\u001b[49m\u001b[43m,\u001b[49m\u001b[43m \u001b[49m\u001b[38;5;241;43m*\u001b[39;49m\u001b[43margs\u001b[49m\u001b[43m,\u001b[49m\u001b[43m \u001b[49m\u001b[38;5;241;43m*\u001b[39;49m\u001b[38;5;241;43m*\u001b[39;49m\u001b[43mkwargs\u001b[49m\u001b[43m)\u001b[49m\n",
      "\u001b[0;31mFileNotFoundError\u001b[0m: [Errno 2] No such file or directory: './data/distributed/erdos_renyi/d{num_node}_p{p}/adj.txt'"
     ]
    }
   ],
   "source": [
    "n = 10\n",
    "# silos = []\n",
    "for i in range(n):\n",
    "    dag.reinit_endoprob(dirichlet_alpha=1)\n",
    "    df = gen_data(dag, 5000, savepath=f\"./data/distributed/erdos_renyi/d{num_node}_p{p}/m{mi}_d{di}_n{n}\", filename=f\"silo-{i}.csv\") # f\"silo-{i}.csv\"\n",
    "    # silos.append(df)"
   ]
  },
  {
   "cell_type": "code",
   "execution_count": null,
   "metadata": {},
   "outputs": [],
   "source": [
    "with open(f\"./data/distributed/erdos_renyi/d{num_node}_p{p}/adj.txt\", \"w\") as f:\n",
    "    np.savetxt(f, adj_mtx)"
   ]
  },
  {
   "cell_type": "markdown",
   "metadata": {},
   "source": [
    "### Conditional-probability preserved data partitioning"
   ]
  },
  {
   "cell_type": "code",
   "execution_count": 4,
   "metadata": {},
   "outputs": [],
   "source": [
    "dataname = \"asia\"\n",
    "data = json.load(open(f\"../CausalBKAI/data/TestData/bnlearn_discrete_10000/truth_dag_adj/{dataname}.json\", \"r\"))\n",
    "adj_mtx = np.array(data['Adj'])\n",
    "\n",
    "# adj_mtx = np.array(\n",
    "#     [[0,1,1],\n",
    "#      [0,0,1],\n",
    "#      [0,0,0]]\n",
    "# )\n",
    "\n",
    "mi = 3\n",
    "di = 3\n",
    "\n",
    "dag = DAG(adj_mtx, max_numvals=mi, alpha=di)"
   ]
  },
  {
   "cell_type": "code",
   "execution_count": 5,
   "metadata": {},
   "outputs": [
    {
     "name": "stderr",
     "output_type": "stream",
     "text": [
      "                                                      \r"
     ]
    }
   ],
   "source": [
    "n = 10\n",
    "df = gen_data(dag, 50000, savepath=None, filename=None) # type:ignore"
   ]
  },
  {
   "cell_type": "code",
   "execution_count": 6,
   "metadata": {},
   "outputs": [],
   "source": [
    "def marginal_prob(data, variables: list):\n",
    "    res = data[[*variables, 'count']].groupby(variables).sum().reset_index()\n",
    "    res['prob'] = res['count']/res['count'].sum()\n",
    "    return res"
   ]
  },
  {
   "cell_type": "code",
   "execution_count": 7,
   "metadata": {},
   "outputs": [],
   "source": [
    "subdata = df.copy()\n",
    "subdata['count'] = [1] * len(subdata)"
   ]
  },
  {
   "cell_type": "code",
   "execution_count": 8,
   "metadata": {},
   "outputs": [
    {
     "data": {
      "text/html": [
       "<div>\n",
       "<style scoped>\n",
       "    .dataframe tbody tr th:only-of-type {\n",
       "        vertical-align: middle;\n",
       "    }\n",
       "\n",
       "    .dataframe tbody tr th {\n",
       "        vertical-align: top;\n",
       "    }\n",
       "\n",
       "    .dataframe thead th {\n",
       "        text-align: right;\n",
       "    }\n",
       "</style>\n",
       "<table border=\"1\" class=\"dataframe\">\n",
       "  <thead>\n",
       "    <tr style=\"text-align: right;\">\n",
       "      <th></th>\n",
       "      <th>X1</th>\n",
       "      <th>count</th>\n",
       "      <th>prob</th>\n",
       "    </tr>\n",
       "  </thead>\n",
       "  <tbody>\n",
       "    <tr>\n",
       "      <th>0</th>\n",
       "      <td>0</td>\n",
       "      <td>6847</td>\n",
       "      <td>0.13694</td>\n",
       "    </tr>\n",
       "    <tr>\n",
       "      <th>1</th>\n",
       "      <td>1</td>\n",
       "      <td>43153</td>\n",
       "      <td>0.86306</td>\n",
       "    </tr>\n",
       "  </tbody>\n",
       "</table>\n",
       "</div>"
      ],
      "text/plain": [
       "   X1  count     prob\n",
       "0   0   6847  0.13694\n",
       "1   1  43153  0.86306"
      ]
     },
     "execution_count": 8,
     "metadata": {},
     "output_type": "execute_result"
    }
   ],
   "source": [
    "marg_dis = marginal_prob(subdata, ['X1'])\n",
    "marg_dis"
   ]
  },
  {
   "cell_type": "code",
   "execution_count": 9,
   "metadata": {},
   "outputs": [
    {
     "data": {
      "text/html": [
       "<div>\n",
       "<style scoped>\n",
       "    .dataframe tbody tr th:only-of-type {\n",
       "        vertical-align: middle;\n",
       "    }\n",
       "\n",
       "    .dataframe tbody tr th {\n",
       "        vertical-align: top;\n",
       "    }\n",
       "\n",
       "    .dataframe thead th {\n",
       "        text-align: right;\n",
       "    }\n",
       "</style>\n",
       "<table border=\"1\" class=\"dataframe\">\n",
       "  <thead>\n",
       "    <tr style=\"text-align: right;\">\n",
       "      <th></th>\n",
       "      <th>X1</th>\n",
       "      <th>prob</th>\n",
       "    </tr>\n",
       "  </thead>\n",
       "  <tbody>\n",
       "    <tr>\n",
       "      <th>0</th>\n",
       "      <td>0</td>\n",
       "      <td>0.138696</td>\n",
       "    </tr>\n",
       "    <tr>\n",
       "      <th>1</th>\n",
       "      <td>1</td>\n",
       "      <td>0.861304</td>\n",
       "    </tr>\n",
       "  </tbody>\n",
       "</table>\n",
       "</div>"
      ],
      "text/plain": [
       "   X1      prob\n",
       "0   0  0.138696\n",
       "1   1  0.861304"
      ]
     },
     "execution_count": 9,
     "metadata": {},
     "output_type": "execute_result"
    }
   ],
   "source": [
    "get_condprob(dag, 0)"
   ]
  },
  {
   "cell_type": "code",
   "execution_count": 10,
   "metadata": {},
   "outputs": [],
   "source": [
    "marg_dict = {}\n",
    "for var in df.columns:\n",
    "    marg_dict[var] = marginal_prob(subdata, [var])['prob'].to_numpy().flatten()\n",
    "\n",
    "if len(marg_dict):\n",
    "    rand_var = np.random.choice(list(marg_dict.keys()))\n",
    "    "
   ]
  },
  {
   "cell_type": "code",
   "execution_count": 11,
   "metadata": {},
   "outputs": [
    {
     "data": {
      "text/plain": [
       "{'X1': array([0.13694, 0.86306]),\n",
       " 'X3': array([0.58324, 0.41676]),\n",
       " 'X2': array([0.34624, 0.65376]),\n",
       " 'X4': array([0.74182, 0.25818]),\n",
       " 'X5': array([0.553, 0.447]),\n",
       " 'X6': array([0.7292, 0.2708]),\n",
       " 'X7': array([0.7168, 0.2832]),\n",
       " 'X8': array([0.37084, 0.62916])}"
      ]
     },
     "execution_count": 11,
     "metadata": {},
     "output_type": "execute_result"
    }
   ],
   "source": [
    "marg_dict"
   ]
  },
  {
   "cell_type": "code",
   "execution_count": 43,
   "metadata": {},
   "outputs": [],
   "source": [
    "def sample_by_variable(data: pd.DataFrame, variable: str, sample_dis: dict):\n",
    "    \"\"\"\n",
    "    This function create a new data frame from the input data frame\n",
    "    By sampling single variable following the input sample distribution\n",
    "    and return the marginal distribution of all variables in the new data frame\n",
    "    \n",
    "    Arguments:\n",
    "        variable:   str\n",
    "        sample_dis: dict {'value': prob}\n",
    "    \n",
    "    Return:\n",
    "        new_data: pd.DataFrame\n",
    "        marg_dict: dictionary {'variable': marginal-distribution}\n",
    "    \"\"\"\n",
    "    coc = data[variable].to_numpy()             # Column of Concern (variable column)\n",
    "    vals = [val for val in sample_dis.keys()]\n",
    "    counts = np.array([np.sum(coc == val) for val in sample_dis.keys()])\n",
    "    probs = np.array([p for p in sample_dis.values()])\n",
    "    num_selects = np.floor(min(counts/probs) * probs)\n",
    "    \n",
    "    all_index = []\n",
    "    for val, num_select in zip(vals, num_selects):\n",
    "        all_index += list(np.random.choice(list(np.where(coc==val)[0]), size=int(num_select), replace=False))\n",
    "    \n",
    "    return data.iloc[all_index].reset_index()\n",
    "\n",
    "def marginal_probs(df: pd.DataFrame):\n",
    "    vars = df.columns\n",
    "    df['count'] = [1] * len(df)\n",
    "    res = {}\n",
    "    for var in vars:\n",
    "        res_var = df[[var, 'count']].groupby(var).sum().reset_index()\n",
    "        res_var['prob'] = res_var['count']/res_var['count'].sum()\n",
    "        res[var] = res_var['prob'].to_numpy()\n",
    "    return res\n",
    "    \n",
    "\n",
    "from causallearn.utils.cit import CIT\n",
    "\n",
    "def find_basis(data: pd.DataFrame, ordering: list, confidence=0.01):\n",
    "    \"\"\"\n",
    "    This function finds propagation basis of a graph\n",
    "    Definition: A propagation basis of a graph is a set of variables\n",
    "    that if we change their marginal distribution, every other variables \n",
    "    will have their marginal distribution changed accordingly\n",
    "    \n",
    "    Arguments:\n",
    "        data:       pd.Dataframe \n",
    "        ordering:   list[variables] that is already in some specific orders\n",
    "    \n",
    "    Procedure:\n",
    "        1. Select the first variable (X) in the ordering list\n",
    "        2. Use the Chi-square test to identify variables that are dependent on X\n",
    "        3. Remove these variables from the ordering list and record X\n",
    "        4. Repeat from 1 until the ordering list is empty\n",
    "    \n",
    "    Return:\n",
    "        Basis: list[variables]\n",
    "    \"\"\"\n",
    "    original_order = data.columns.to_list()\n",
    "    basis = []\n",
    "    while len(ordering):\n",
    "        Xamine_var = ordering.pop(0)            \n",
    "        chisq_obj = CIT(data, \"chisq\")\n",
    "        remove_list = []\n",
    "        for remain_var in ordering:\n",
    "            pval = chisq_obj(original_order.index(Xamine_var), original_order.index(remain_var), []) # type:ignore\n",
    "            if pval <= confidence: # type:ignore\n",
    "                print(f\"{Xamine_var} dependent with {remain_var} with p_val={pval}\")\n",
    "                remove_list.append(remain_var)\n",
    "            else:\n",
    "                print(f\"{Xamine_var} independent with {remain_var} with p_val={pval}\")\n",
    "        \n",
    "        ordering = list(set(ordering) - set(remove_list))\n",
    "        basis.append(Xamine_var)\n",
    "        \n",
    "    return basis"
   ]
  },
  {
   "cell_type": "code",
   "execution_count": 46,
   "metadata": {},
   "outputs": [
    {
     "name": "stdout",
     "output_type": "stream",
     "text": [
      "Loaded file: ./data/distributed/asia/m3_d1_n10/silo-0.csv\t5000  Instances\t 8 Variables\n",
      "Loaded file: ./data/distributed/asia/m3_d1_n10/silo-1.csv\t5000  Instances\t 8 Variables\n",
      "Loaded file: ./data/distributed/asia/m3_d1_n10/silo-2.csv\t5000  Instances\t 8 Variables\n",
      "Loaded file: ./data/distributed/asia/m3_d1_n10/silo-3.csv\t5000  Instances\t 8 Variables\n",
      "Loaded file: ./data/distributed/asia/m3_d1_n10/silo-4.csv\t5000  Instances\t 8 Variables\n",
      "Loaded file: ./data/distributed/asia/m3_d1_n10/silo-5.csv\t5000  Instances\t 8 Variables\n",
      "Loaded file: ./data/distributed/asia/m3_d1_n10/silo-6.csv\t5000  Instances\t 8 Variables\n",
      "Loaded file: ./data/distributed/asia/m3_d1_n10/silo-7.csv\t5000  Instances\t 8 Variables\n",
      "Loaded file: ./data/distributed/asia/m3_d1_n10/silo-8.csv\t5000  Instances\t 8 Variables\n",
      "Loaded file: ./data/distributed/asia/m3_d1_n10/silo-9.csv\t5000  Instances\t 8 Variables\n"
     ]
    }
   ],
   "source": [
    "import numpy as np\n",
    "import pandas as pd\n",
    "from utils import conditional_mutual_information, conditional_entropy, compute_mll, compute_weighted_variance_viasilos\n",
    "from pathlib import Path\n",
    "import os\n",
    "import json\n",
    "import random\n",
    "\n",
    "dataname = \"asia\"\n",
    "mi = 3      # The number of values a variable can take is ranged in [2, mi-1]\n",
    "di = 1      # The dirichlet alpha that controls the data distribution\n",
    "n = 10      # The number of data silos\n",
    "\n",
    "silos = []\n",
    "\n",
    "# folderpath = f\"./data/distributed/erdos_renyi/d20_p0.2/m3_d1_n10\"\n",
    "# groundtruth = np.loadtxt(f\"./data/distributed/erdos_renyi/d20_p0.2/adj.txt\")\n",
    "\n",
    "folderpath = f\"./data/distributed/{dataname}/m{mi}_d{di}_n{n}\"\n",
    "groundtruth = np.loadtxt(f\"./data/distributed/{dataname}/adj.txt\")\n",
    "\n",
    "if not Path(folderpath).exists():\n",
    "    print(\"Folder\", folderpath, \"not exist!\")\n",
    "else:\n",
    "    for file in sorted(os.listdir(folderpath)):\n",
    "        filename = os.path.join(folderpath, file)\n",
    "        silo_data = pd.read_csv(filename)\n",
    "        silos.append(silo_data)\n",
    "        print(\"Loaded file:\", filename, end=\"\\t\")\n",
    "        all_vars = silos[0].columns\n",
    "        print(len(silo_data), \" Instances\\t\", len(all_vars), \"Variables\")\n",
    "        \n",
    "merged_df = pd.concat(silos, axis=0)"
   ]
  },
  {
   "cell_type": "code",
   "execution_count": 48,
   "metadata": {},
   "outputs": [
    {
     "name": "stdout",
     "output_type": "stream",
     "text": [
      "X6 dependent with X1 with p_val=0.0\n",
      "X6 dependent with X2 with p_val=0.0\n",
      "X6 dependent with X3 with p_val=4.3339925795881283e-19\n",
      "X6 dependent with X4 with p_val=4.310987466659948e-286\n",
      "X6 dependent with X5 with p_val=0.0036992473188418324\n",
      "X6 dependent with X7 with p_val=0.0\n",
      "X6 dependent with X8 with p_val=0.0\n"
     ]
    },
    {
     "data": {
      "text/plain": [
       "['X6']"
      ]
     },
     "execution_count": 48,
     "metadata": {},
     "output_type": "execute_result"
    }
   ],
   "source": [
    "find_basis(merged_df, ['X6', 'X1', 'X2', 'X3', 'X4', 'X5', 'X7', 'X8'], confidence=0.01)"
   ]
  },
  {
   "cell_type": "code",
   "execution_count": 22,
   "metadata": {},
   "outputs": [
    {
     "name": "stdout",
     "output_type": "stream",
     "text": [
      "9781\n"
     ]
    }
   ],
   "source": [
    "output = sample_by_variable(df, 'X1', {0:0.7, 1:0.3})\n",
    "print(len(output))"
   ]
  },
  {
   "cell_type": "code",
   "execution_count": 23,
   "metadata": {},
   "outputs": [
    {
     "data": {
      "text/plain": [
       "(array([0, 1], dtype=object), array([6847, 2934]))"
      ]
     },
     "execution_count": 23,
     "metadata": {},
     "output_type": "execute_result"
    }
   ],
   "source": [
    "np.unique(output['X1'], return_counts=True)"
   ]
  },
  {
   "cell_type": "code",
   "execution_count": 24,
   "metadata": {},
   "outputs": [
    {
     "data": {
      "text/html": [
       "<div>\n",
       "<style scoped>\n",
       "    .dataframe tbody tr th:only-of-type {\n",
       "        vertical-align: middle;\n",
       "    }\n",
       "\n",
       "    .dataframe tbody tr th {\n",
       "        vertical-align: top;\n",
       "    }\n",
       "\n",
       "    .dataframe thead th {\n",
       "        text-align: right;\n",
       "    }\n",
       "</style>\n",
       "<table border=\"1\" class=\"dataframe\">\n",
       "  <thead>\n",
       "    <tr style=\"text-align: right;\">\n",
       "      <th></th>\n",
       "      <th>X1</th>\n",
       "      <th>prob</th>\n",
       "    </tr>\n",
       "  </thead>\n",
       "  <tbody>\n",
       "    <tr>\n",
       "      <th>0</th>\n",
       "      <td>0</td>\n",
       "      <td>0.138696</td>\n",
       "    </tr>\n",
       "    <tr>\n",
       "      <th>1</th>\n",
       "      <td>1</td>\n",
       "      <td>0.861304</td>\n",
       "    </tr>\n",
       "  </tbody>\n",
       "</table>\n",
       "</div>"
      ],
      "text/plain": [
       "   X1      prob\n",
       "0   0  0.138696\n",
       "1   1  0.861304"
      ]
     },
     "execution_count": 24,
     "metadata": {},
     "output_type": "execute_result"
    }
   ],
   "source": [
    "get_condprob(dag, 0)"
   ]
  },
  {
   "cell_type": "code",
   "execution_count": 25,
   "metadata": {},
   "outputs": [
    {
     "data": {
      "text/html": [
       "<div>\n",
       "<style scoped>\n",
       "    .dataframe tbody tr th:only-of-type {\n",
       "        vertical-align: middle;\n",
       "    }\n",
       "\n",
       "    .dataframe tbody tr th {\n",
       "        vertical-align: top;\n",
       "    }\n",
       "\n",
       "    .dataframe thead th {\n",
       "        text-align: right;\n",
       "    }\n",
       "</style>\n",
       "<table border=\"1\" class=\"dataframe\">\n",
       "  <thead>\n",
       "    <tr style=\"text-align: right;\">\n",
       "      <th></th>\n",
       "      <th>X2</th>\n",
       "      <th>X1</th>\n",
       "      <th>prob</th>\n",
       "    </tr>\n",
       "  </thead>\n",
       "  <tbody>\n",
       "    <tr>\n",
       "      <th>0</th>\n",
       "      <td>0</td>\n",
       "      <td>0</td>\n",
       "      <td>0.50819</td>\n",
       "    </tr>\n",
       "    <tr>\n",
       "      <th>2</th>\n",
       "      <td>1</td>\n",
       "      <td>0</td>\n",
       "      <td>0.49181</td>\n",
       "    </tr>\n",
       "    <tr>\n",
       "      <th>1</th>\n",
       "      <td>0</td>\n",
       "      <td>1</td>\n",
       "      <td>0.32332</td>\n",
       "    </tr>\n",
       "    <tr>\n",
       "      <th>3</th>\n",
       "      <td>1</td>\n",
       "      <td>1</td>\n",
       "      <td>0.67668</td>\n",
       "    </tr>\n",
       "  </tbody>\n",
       "</table>\n",
       "</div>"
      ],
      "text/plain": [
       "   X2  X1     prob\n",
       "0   0   0  0.50819\n",
       "2   1   0  0.49181\n",
       "1   0   1  0.32332\n",
       "3   1   1  0.67668"
      ]
     },
     "execution_count": 25,
     "metadata": {},
     "output_type": "execute_result"
    }
   ],
   "source": [
    "get_condprob(dag, 2)"
   ]
  },
  {
   "cell_type": "code",
   "execution_count": 26,
   "metadata": {},
   "outputs": [
    {
     "data": {
      "text/html": [
       "<div>\n",
       "<style scoped>\n",
       "    .dataframe tbody tr th:only-of-type {\n",
       "        vertical-align: middle;\n",
       "    }\n",
       "\n",
       "    .dataframe tbody tr th {\n",
       "        vertical-align: top;\n",
       "    }\n",
       "\n",
       "    .dataframe thead th {\n",
       "        text-align: right;\n",
       "    }\n",
       "</style>\n",
       "<table border=\"1\" class=\"dataframe\">\n",
       "  <thead>\n",
       "    <tr style=\"text-align: right;\">\n",
       "      <th></th>\n",
       "      <th>joint_0</th>\n",
       "      <th>probs_0</th>\n",
       "      <th>X2</th>\n",
       "      <th>X1</th>\n",
       "    </tr>\n",
       "  </thead>\n",
       "  <tbody>\n",
       "    <tr>\n",
       "      <th>0</th>\n",
       "      <td>0.344955</td>\n",
       "      <td>0.492771</td>\n",
       "      <td>0</td>\n",
       "      <td>0</td>\n",
       "    </tr>\n",
       "    <tr>\n",
       "      <th>1</th>\n",
       "      <td>0.096411</td>\n",
       "      <td>0.321404</td>\n",
       "      <td>0</td>\n",
       "      <td>1</td>\n",
       "    </tr>\n",
       "    <tr>\n",
       "      <th>2</th>\n",
       "      <td>0.355076</td>\n",
       "      <td>0.507229</td>\n",
       "      <td>1</td>\n",
       "      <td>0</td>\n",
       "    </tr>\n",
       "    <tr>\n",
       "      <th>3</th>\n",
       "      <td>0.203558</td>\n",
       "      <td>0.678596</td>\n",
       "      <td>1</td>\n",
       "      <td>1</td>\n",
       "    </tr>\n",
       "  </tbody>\n",
       "</table>\n",
       "</div>"
      ],
      "text/plain": [
       "    joint_0   probs_0  X2  X1\n",
       "0  0.344955  0.492771   0   0\n",
       "1  0.096411  0.321404   0   1\n",
       "2  0.355076  0.507229   1   0\n",
       "3  0.203558  0.678596   1   1"
      ]
     },
     "execution_count": 26,
     "metadata": {},
     "output_type": "execute_result"
    }
   ],
   "source": [
    "compute_condprob(output, 'X2', ['X1'])"
   ]
  },
  {
   "cell_type": "code",
   "execution_count": null,
   "metadata": {},
   "outputs": [],
   "source": []
  }
 ],
 "metadata": {
  "kernelspec": {
   "display_name": "easyFL",
   "language": "python",
   "name": "python3"
  },
  "language_info": {
   "codemirror_mode": {
    "name": "ipython",
    "version": 3
   },
   "file_extension": ".py",
   "mimetype": "text/x-python",
   "name": "python",
   "nbconvert_exporter": "python",
   "pygments_lexer": "ipython3",
   "version": "3.8.-1"
  }
 },
 "nbformat": 4,
 "nbformat_minor": 2
}

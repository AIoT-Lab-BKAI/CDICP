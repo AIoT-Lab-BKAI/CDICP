{
 "cells": [
  {
   "cell_type": "markdown",
   "metadata": {},
   "source": [
    "#### Env: Minh"
   ]
  },
  {
   "cell_type": "code",
   "execution_count": 2,
   "metadata": {},
   "outputs": [
    {
     "name": "stdout",
     "output_type": "stream",
     "text": [
      "Loaded file: ./data/distributed/erdos_renyi/d40_p0.1/m5_d1.0_n10/silo-0.csv\t2500  Instances 40 Variables\n",
      "Loaded file: ./data/distributed/erdos_renyi/d40_p0.1/m5_d1.0_n10/silo-1.csv\t2500  Instances 40 Variables\n",
      "Loaded file: ./data/distributed/erdos_renyi/d40_p0.1/m5_d1.0_n10/silo-2.csv\t2500  Instances 40 Variables\n",
      "Loaded file: ./data/distributed/erdos_renyi/d40_p0.1/m5_d1.0_n10/silo-3.csv\t2500  Instances 40 Variables\n",
      "Loaded file: ./data/distributed/erdos_renyi/d40_p0.1/m5_d1.0_n10/silo-4.csv\t2500  Instances 40 Variables\n",
      "Loaded file: ./data/distributed/erdos_renyi/d40_p0.1/m5_d1.0_n10/silo-5.csv\t2500  Instances 40 Variables\n",
      "Loaded file: ./data/distributed/erdos_renyi/d40_p0.1/m5_d1.0_n10/silo-6.csv\t2500  Instances 40 Variables\n",
      "Loaded file: ./data/distributed/erdos_renyi/d40_p0.1/m5_d1.0_n10/silo-7.csv\t2500  Instances 40 Variables\n",
      "Loaded file: ./data/distributed/erdos_renyi/d40_p0.1/m5_d1.0_n10/silo-8.csv\t2500  Instances 40 Variables\n",
      "Loaded file: ./data/distributed/erdos_renyi/d40_p0.1/m5_d1.0_n10/silo-9.csv\t2500  Instances 40 Variables\n"
     ]
    }
   ],
   "source": [
    "import pandas as pd\n",
    "from upgrade import *\n",
    "from causallearn.utils.cit import CIT\n",
    "import numpy as np\n",
    "from pathlib import Path\n",
    "import os\n",
    "from tqdm import tqdm\n",
    "\n",
    "dataname = \"erdos_renyi/d40_p0.1\"\n",
    "# dataname = \"erdos_renyi/d40_p0.1\"\n",
    "mi = 5      # The number of values a variable can take is ranged in [2, mi-1]\n",
    "di = 1.0      # The dirichlet alpha that controls the data distribution\n",
    "n = 10      # The number of data silos\n",
    "\n",
    "TMB_activated = True\n",
    "\n",
    "silos = []\n",
    "\n",
    "folderpath = f\"./data/distributed/{dataname}/m{mi}_d{di}_n{n}\"\n",
    "groundtruth = np.loadtxt(f\"./data/distributed/{dataname}/adj.txt\")\n",
    "\n",
    "if not Path(folderpath).exists():\n",
    "    print(\"Folder\", folderpath, \"not exist!\")\n",
    "else:\n",
    "    for file in sorted(os.listdir(folderpath)):\n",
    "        filename = os.path.join(folderpath, file)\n",
    "        silo_data = pd.read_csv(filename)\n",
    "        silos.append(silo_data)\n",
    "        print(\"Loaded file:\", filename, end=\"\\t\")\n",
    "        print(len(silo_data), \" Instances\", len(silo_data.columns), \"Variables\")\n",
    "\n",
    "merged_df = pd.concat(silos, axis=0)\n",
    "merged_df = merged_df.reindex(sorted(merged_df.columns, key=lambda item: int(item[1:])), axis=1)\n",
    "all_vars = list(merged_df.columns)"
   ]
  },
  {
   "cell_type": "code",
   "execution_count": 3,
   "metadata": {},
   "outputs": [],
   "source": [
    "confidence = 0.01\n",
    "connectivity = {var: [] for var in all_vars}\n",
    "chisq_obj = CIT(merged_df, \"chisq\")\n",
    "\n",
    "for X in connectivity.keys():\n",
    "    other_vars = list(set(all_vars) - set(connectivity[X]) - set([X]))\n",
    "    for Y in other_vars:\n",
    "        pval = chisq_obj(all_vars.index(X), all_vars.index(Y), []) # type: ignore\n",
    "        if pval <= confidence: # type: ignore\n",
    "            connectivity[X] = list(set(connectivity[X]) | set([Y]))\n",
    "            connectivity[Y] = list(set(connectivity[Y]) | set([X]))"
   ]
  },
  {
   "cell_type": "code",
   "execution_count": 4,
   "metadata": {},
   "outputs": [],
   "source": [
    "from copy import deepcopy\n",
    "\n",
    "def GSMB(indexes, confidence=0.01):\n",
    "    data = merged_df.iloc[indexes].reset_index().drop(columns=['index'])\n",
    "    chisq_obj = CIT(data, \"chisq\") # construct a CIT instance with data and method name\n",
    "    all_var_idx = [i for i in range(len(data.columns))]\n",
    "    markov_blankets_idx = {i: [] for i in range(len(data.columns))}\n",
    "\n",
    "    for X in all_var_idx:\n",
    "        # S = markov_blankets_idx[X]\n",
    "        S = []\n",
    "        # X = 6\n",
    "        prev_length = 0\n",
    "        count = 0\n",
    "        while True:\n",
    "            count += 1\n",
    "            # print(\"==============New cycle==================\")\n",
    "            for Y in list(set(all_var_idx) - set(S) - set([X])):\n",
    "                if Y != X:\n",
    "                    pval = chisq_obj(X, Y, S) # type:ignore\n",
    "                    if pval <= confidence: # type:ignore\n",
    "                        S.append(Y)\n",
    "            \n",
    "            for Y in deepcopy(S):\n",
    "                pval = chisq_obj(X, Y, list(set(S) - set([Y]))) # type:ignore\n",
    "                if pval > confidence: # type:ignore\n",
    "                    S.remove(Y)\n",
    "            \n",
    "            if (len(S) - prev_length == 0) or (count > 2):\n",
    "                break\n",
    "            else:\n",
    "                prev_length = len(S)\n",
    "        \n",
    "        # markov_blankets[data.columns[X]] = [data.columns[i] for i in S]\n",
    "        markov_blankets_idx[X] = list(set(markov_blankets_idx[X])|set(S))\n",
    "        # for i in S:\n",
    "        #     if X not in markov_blankets_idx[i]:\n",
    "        #         markov_blankets_idx[i].append(X)\n",
    "    \n",
    "    markov_blankets = {var: [] for var in all_vars}\n",
    "    for idx, mb_idxes in markov_blankets_idx.items():\n",
    "        var = all_vars[idx]\n",
    "        markov_blankets[var] = [all_vars[i] for i in mb_idxes]\n",
    "    \n",
    "    return markov_blankets"
   ]
  },
  {
   "cell_type": "code",
   "execution_count": 5,
   "metadata": {},
   "outputs": [],
   "source": [
    "def true_markov_blanket(adj_matrix, var_idx):\n",
    "    parents = np.where(adj_matrix[:, var_idx])[0]\n",
    "    children = np.where(adj_matrix[var_idx])[0]\n",
    "    \n",
    "    spouses = set()\n",
    "    for c in children:\n",
    "        for sp in np.where(adj_matrix[:, c])[0]:\n",
    "            spouses.add(sp)\n",
    "    \n",
    "    spouses = list(spouses)\n",
    "    return parents, children, spouses\n",
    "\n",
    "\n",
    "def to_list(all_vars, mb_idx_list):\n",
    "    return [all_vars[i] for i in mb_idx_list]"
   ]
  },
  {
   "cell_type": "code",
   "execution_count": 6,
   "metadata": {},
   "outputs": [],
   "source": [
    "TMB_activated = 1\n",
    "markov_blankets = {var: [] for var in all_vars}\n",
    "\n",
    "if TMB_activated:\n",
    "    for var in markov_blankets.keys():\n",
    "        pa, ch, sp = true_markov_blanket(groundtruth, int(var[1:]) - 1)\n",
    "        markov_blankets[var] = list(set(to_list(all_vars, list(set(pa)|set(ch)|set(sp)))) - set([var]))\n",
    "else:\n",
    "    markov_blankets = GSMB([i for i in range(len(merged_df))])"
   ]
  },
  {
   "cell_type": "code",
   "execution_count": 7,
   "metadata": {},
   "outputs": [],
   "source": [
    "def recursive_conn(neighbors):\n",
    "    output = []\n",
    "    if len(neighbors) <= 1:\n",
    "      output = [neighbors]\n",
    "    else:\n",
    "      for i in neighbors:\n",
    "        res_i = [i] + recursive_conn(list(set(neighbors)&set(markov_blankets[i])))\n",
    "        output.append(res_i)\n",
    "    return output\n",
    "\n",
    "def unfold(input):\n",
    "    \"\"\"\n",
    "    Arguments:\n",
    "      input: [var, var, ..., [var, ...], [var, ...]]\n",
    "\n",
    "    that has a number of non-list element and a number of list element\n",
    "    \"\"\"\n",
    "    cut_index = 0\n",
    "    while cut_index < len(input):\n",
    "      cut_index += 1\n",
    "      if isinstance(input[cut_index], list):\n",
    "        break\n",
    "\n",
    "    out = []\n",
    "    for i in range(cut_index, len(input)):\n",
    "      out.append([*input[:cut_index], *input[i]])\n",
    "    return out"
   ]
  },
  {
   "cell_type": "code",
   "execution_count": 8,
   "metadata": {},
   "outputs": [
    {
     "name": "stderr",
     "output_type": "stream",
     "text": [
      "100%|██████████| 40/40 [00:21<00:00,  1.88it/s]\n"
     ]
    }
   ],
   "source": [
    "recursive_outputs = {}\n",
    "\n",
    "for anchor_var in tqdm(markov_blankets.keys()):\n",
    "    recursive_outputs[anchor_var] = recursive_conn(deepcopy(markov_blankets[anchor_var]))"
   ]
  },
  {
   "cell_type": "code",
   "execution_count": 9,
   "metadata": {},
   "outputs": [
    {
     "name": "stderr",
     "output_type": "stream",
     "text": [
      "                                               \r"
     ]
    }
   ],
   "source": [
    "potential_parents = {}\n",
    "\n",
    "for anchor_var in tqdm(markov_blankets.keys(), leave=False):\n",
    "    # anchor_var = 'X1'\n",
    "    recursive_output = recursive_outputs[anchor_var]\n",
    "\n",
    "    final_output = set()\n",
    "    for i in range(len(recursive_output)):\n",
    "        test_case = deepcopy(recursive_output[i])\n",
    "        unique_elements = set()\n",
    "        if len(test_case) == 1:\n",
    "            unique_elements.add(tuple(test_case))\n",
    "        else:\n",
    "            first_element = test_case.pop(0)\n",
    "            while len(test_case):\n",
    "                examine_group = test_case.pop(0)\n",
    "                if len(examine_group) and not isinstance(examine_group[0], list) and isinstance(examine_group[-1], list):\n",
    "                    unfolded = unfold(examine_group)\n",
    "                    test_case += [*unfold(examine_group)]\n",
    "                else:\n",
    "                    unique_elements.add(tuple(sorted(examine_group + [first_element])))\n",
    "        \n",
    "        final_output = final_output|unique_elements\n",
    "    potential_parents[anchor_var] = [j for j in final_output]"
   ]
  },
  {
   "cell_type": "code",
   "execution_count": 10,
   "metadata": {},
   "outputs": [],
   "source": [
    "def generate_uniform_distributions(P0: np.ndarray, num_gen=100, gamma2=0.8):\n",
    "    Ulist = list(np.eye(P0.shape[0]))\n",
    "    # Compute the boundary points\n",
    "    boundaries = []\n",
    "    for i in range(len(Ulist)):\n",
    "        if P0[i]/gamma2 < 1:\n",
    "            alpha_i = 1/(1 - P0[i]) * (1 - P0[i]/(gamma2 + 0.001))\n",
    "            boundary_i = alpha_i * P0 + (1 - alpha_i) * Ulist[i]\n",
    "        else:\n",
    "            boundary_i = Ulist[i]\n",
    "        boundaries.append(boundary_i)\n",
    "    \n",
    "    boundaries = np.stack(boundaries)\n",
    "    # w = np.random.uniform(0, 1, (num_gen * 1000, len(Ulist)))\n",
    "    w = np.exp(np.random.rand(num_gen * 1000, len(Ulist)))\n",
    "    w = w/w.sum(axis=1, keepdims=True)\n",
    "    \n",
    "    kmeans = KMeans(n_clusters=num_gen, n_init=\"auto\")\n",
    "    kmeans.fit(w @ boundaries)\n",
    "    res = kmeans.cluster_centers_\n",
    "    \n",
    "    return res\n",
    "\n",
    "def multivariate_sampling(data: pd.DataFrame, variables: list, sample_dis: dict, instance_index):\n",
    "    remains = deepcopy(variables)\n",
    "    while len(remains):\n",
    "        sampling_var = remains.pop(0)\n",
    "        distribution = sample_dis[sampling_var][instance_index]\n",
    "        _, all_index = univariate_sampling(data, sampling_var, {i: distribution[i] for i in range(distribution.shape[0])})\n",
    "    return all_index"
   ]
  },
  {
   "cell_type": "code",
   "execution_count": 11,
   "metadata": {},
   "outputs": [],
   "source": [
    "def compute_variance_viaindexesv2(indexes: list, variable: str, parents: list):\n",
    "    conditional_probs_record = merged_df[parents + [variable]].groupby(parents + [variable]).count().reset_index()\n",
    "    mll_list = []\n",
    "    env = 0\n",
    "    for index in indexes:\n",
    "        vertical_sampled_data = merged_df.iloc[index].reset_index()\n",
    "        vertical_sampled_data = vertical_sampled_data.drop(columns=['index'])\n",
    "        vertical_sampled_data.insert(0, 'count', [1] * len(vertical_sampled_data))\n",
    "        \n",
    "        summary_with_ch = vertical_sampled_data.groupby(parents + [variable])['count'].sum().reset_index()\n",
    "        mll, output = compute_mll(summary_with_ch, parents, env)\n",
    "        conditional_probs_record = conditional_probs_record.merge(output, on=parents + [variable], how='left')\n",
    "        mll_list.append(mll)\n",
    "        env += 1\n",
    "    \n",
    "    mean_mll = np.mean(mll_list)\n",
    "    var_avg = conditional_probs_record.iloc[:, len(parents) + 1:].var(axis=1, skipna=True).mean()\n",
    "    return var_avg, mean_mll, conditional_probs_record\n",
    "\n",
    "\n",
    "def compute_weighted_variance_viaindexesv2(indexes: list, variable: str, parents: list):\n",
    "    variance, _, df = compute_variance_viaindexesv2(indexes, variable, parents)\n",
    "    if len(parents):\n",
    "        joint_mat = np.array([df[f'joint_{i}'] for i in range(len(indexes))]).T\n",
    "        probs_mat = np.array([df[f'probs_{i}'] for i in range(len(indexes))]).T\n",
    "        probs_mean = []\n",
    "        for i in range(probs_mat.shape[0]):\n",
    "            if len(probs_mat[i][~np.isnan(probs_mat[i])]):\n",
    "                probs_mean.append(np.mean(probs_mat[i][~np.isnan(probs_mat[i])]).item())\n",
    "            else:\n",
    "                probs_mean.append(0)\n",
    "                \n",
    "        probs_mean = np.expand_dims(np.array(probs_mean), 1)\n",
    "        joint_mat = joint_mat.shape[1] * joint_mat/joint_mat.sum(axis=1, keepdims=True)\n",
    "        prod = joint_mat * (probs_mat - probs_mean)**2\n",
    "        return np.power(np.mean(prod[~np.isnan(prod)]), 0.5), parents\n",
    "    else:\n",
    "        return variance, parents\n",
    "\n",
    "\n",
    "def individual_causal_search(var, silos_index, num_env=10, gamma2=0.5):\n",
    "    basis = []\n",
    "    ordering = sorted(markov_blankets[anchor_var], key=lambda item: len(connectivity[item]), reverse=False)\n",
    "    while len(ordering):\n",
    "        var = ordering.pop(0)\n",
    "        discard_vars = connectivity[var]\n",
    "        ordering = sorted(list(set(ordering) - set(discard_vars)), \n",
    "                        key=lambda item: len(list(set(connectivity[item]) - set(discard_vars))), reverse=False)\n",
    "        basis.append(var)\n",
    "\n",
    "    sample_dis = {var: generate_uniform_distributions(P0=marginal_prob(merged_df, [var]),\n",
    "                                                    num_gen=num_env, \n",
    "                                                    gamma2=np.power(gamma2, 1./len(basis))) for var in basis}\n",
    "\n",
    "    silos_index = [multivariate_sampling(merged_df, basis, sample_dis, i) for i in range(num_env)]\n",
    "    record = []\n",
    "    for var in markov_blankets[anchor_var]:\n",
    "        silos_index = [multivariate_sampling(merged_df, basis, sample_dis, i) for i in range(num_env)]\n",
    "        variance1, _ = compute_weighted_variance_viaindexesv2(silos_index, anchor_var, [var])\n",
    "        record.append([var, variance1])\n",
    "    \n",
    "    return {var: record}"
   ]
  },
  {
   "cell_type": "code",
   "execution_count": 38,
   "metadata": {},
   "outputs": [],
   "source": [
    "# anchor_var = 'X2'\n",
    "num_env = 10\n",
    "gamma2 = 0.5\n",
    "\n",
    "basis = []\n",
    "ordering = sorted(all_vars, key=lambda item: len(connectivity[item]), reverse=False)\n",
    "while len(ordering):\n",
    "    var = ordering.pop(0)\n",
    "    discard_vars = connectivity[var]\n",
    "    ordering = sorted(list(set(ordering) - set(discard_vars)), \n",
    "                    key=lambda item: len(list(set(connectivity[item]) - set(discard_vars))), reverse=False)\n",
    "    basis.append(var)\n",
    "        \n",
    "sample_dis = {var: generate_uniform_distributions(P0=marginal_prob(merged_df, [var]),\n",
    "                                                    num_gen=num_env, \n",
    "                                                    gamma2=np.power(gamma2, 1./len(basis))) for var in basis}\n",
    "silos_index = [multivariate_sampling(merged_df, basis, sample_dis, i) for i in range(num_env)]\n",
    "\n",
    "candidate_record = {}\n",
    "for anchor_var in markov_blankets.keys():\n",
    "    record = []\n",
    "    for var in markov_blankets[anchor_var]:\n",
    "        variance, _ = compute_weighted_variance_viaindexesv2(silos_index, anchor_var, [var])\n",
    "        record.append([var, variance])\n",
    "    \n",
    "    candidate_record[anchor_var] = record"
   ]
  },
  {
   "cell_type": "code",
   "execution_count": 56,
   "metadata": {},
   "outputs": [],
   "source": [
    "adj_mtx = np.ones([len(all_vars), len(all_vars)])\n",
    "for var in candidate_record.keys():\n",
    "    if len(candidate_record[var]):\n",
    "        var_id = int(var[1:]) - 1\n",
    "        for candidate, variance in candidate_record[var]:\n",
    "            can_id = int(candidate[1:]) - 1\n",
    "            if adj_mtx[can_id][var_id] > variance:\n",
    "                adj_mtx[can_id][var_id] = variance\n",
    "                \n",
    "\n",
    "for i in range(len(all_vars)):\n",
    "    for j in range(i, len(all_vars)):\n",
    "        if adj_mtx[i][j] > adj_mtx[j][i]:\n",
    "            adj_mtx[i][j] = 0\n",
    "        elif adj_mtx[i][j] < adj_mtx[j][i]:\n",
    "            adj_mtx[j][i] = 0\n",
    "        else:\n",
    "            adj_mtx[j][i] = 0\n",
    "            adj_mtx[i][j] = 0"
   ]
  },
  {
   "cell_type": "code",
   "execution_count": 57,
   "metadata": {},
   "outputs": [
    {
     "name": "stdout",
     "output_type": "stream",
     "text": [
      "True parents: ['X4' 'X12' 'X38']\n",
      "Found parents: ['X12' 'X24' 'X28' 'X37' 'X38']\n"
     ]
    }
   ],
   "source": [
    "print(\"True parents:\", np.array(all_vars)[np.where(groundtruth[:, 0])])\n",
    "print(\"Found parents:\", np.array(all_vars)[np.where(adj_mtx[:,0])])"
   ]
  },
  {
   "cell_type": "code",
   "execution_count": 58,
   "metadata": {},
   "outputs": [
    {
     "name": "stdout",
     "output_type": "stream",
     "text": [
      "True children: ['X37']\n",
      "Found children: ['X4' 'X14']\n"
     ]
    }
   ],
   "source": [
    "print(\"True children:\", np.array(all_vars)[np.where(groundtruth[0])])\n",
    "print(\"Found children:\", np.array(all_vars)[np.where(adj_mtx[0])])"
   ]
  },
  {
   "cell_type": "code",
   "execution_count": 111,
   "metadata": {},
   "outputs": [
    {
     "name": "stdout",
     "output_type": "stream",
     "text": [
      "True parents: ['X7' 'X33']\n",
      "Found parents: ['X1' 'X9' 'X12' 'X24' 'X26' 'X28' 'X30' 'X31' 'X37' 'X38']\n"
     ]
    }
   ],
   "source": [
    "print(\"True parents:\", np.array(all_vars)[np.where(groundtruth[:, 3])])\n",
    "print(\"Found parents:\", np.array(all_vars)[np.where(adj_mtx[:,3])])"
   ]
  },
  {
   "cell_type": "code",
   "execution_count": 12,
   "metadata": {},
   "outputs": [],
   "source": [
    "def true_markov_blanket(adj_matrix, var_idx):\n",
    "    parents = np.where(adj_matrix[:, var_idx])[0]\n",
    "    children = np.where(adj_matrix[var_idx])[0]\n",
    "    \n",
    "    spouses = set()\n",
    "    for c in children:\n",
    "        for sp in np.where(adj_matrix[:, c])[0]:\n",
    "            spouses.add(sp)\n",
    "    \n",
    "    pa_sp = list(set(parents)&spouses)\n",
    "    ch_sp = list(set(children)&spouses)\n",
    "    spouses = list(spouses - set(pa_sp) - set(ch_sp))\n",
    "    \n",
    "    return parents, pa_sp, spouses, ch_sp, children\n",
    "\n",
    "\n",
    "def to_list(all_vars, mb_idx_list):\n",
    "    return [all_vars[i] for i in mb_idx_list]"
   ]
  },
  {
   "cell_type": "code",
   "execution_count": 13,
   "metadata": {},
   "outputs": [
    {
     "name": "stdout",
     "output_type": "stream",
     "text": [
      "Parent: ['X4', 'X8', 'X12', 'X15', 'X18', 'X38']\n",
      "Pa-Sp: []\n",
      "Spouses: []\n",
      "Ch-Sp: []\n",
      "Children: []\n"
     ]
    },
    {
     "ename": "NameError",
     "evalue": "name 'gamma2' is not defined",
     "output_type": "error",
     "traceback": [
      "\u001b[0;31m---------------------------------------------------------------------------\u001b[0m",
      "\u001b[0;31mNameError\u001b[0m                                 Traceback (most recent call last)",
      "Cell \u001b[0;32mIn[13], line 23\u001b[0m\n\u001b[1;32m     21\u001b[0m silos_index \u001b[38;5;241m=\u001b[39m []\n\u001b[1;32m     22\u001b[0m \u001b[38;5;66;03m# ============= First test =============== #\u001b[39;00m\n\u001b[0;32m---> 23\u001b[0m sample_dis \u001b[38;5;241m=\u001b[39m {var: generate_uniform_distributions(P0\u001b[38;5;241m=\u001b[39mmarginal_prob(merged_df, [var]),\n\u001b[1;32m     24\u001b[0m                                                     num_gen\u001b[38;5;241m=\u001b[39mnum_env, \n\u001b[1;32m     25\u001b[0m                                                     gamma2\u001b[38;5;241m=\u001b[39mgamma2) \u001b[38;5;28;01mfor\u001b[39;00m var \u001b[38;5;129;01min\u001b[39;00m [mb_var]}\n\u001b[1;32m     26\u001b[0m silos_index \u001b[38;5;241m+\u001b[39m\u001b[38;5;241m=\u001b[39m [multivariate_sampling(merged_df, [mb_var], sample_dis, i) \u001b[38;5;28;01mfor\u001b[39;00m i \u001b[38;5;129;01min\u001b[39;00m \u001b[38;5;28mrange\u001b[39m(num_env)]\n\u001b[1;32m     28\u001b[0m sample_dis \u001b[38;5;241m=\u001b[39m {var: generate_uniform_distributions(P0\u001b[38;5;241m=\u001b[39mmarginal_prob(merged_df, [var]),\n\u001b[1;32m     29\u001b[0m                                                     num_gen\u001b[38;5;241m=\u001b[39mnum_env, \n\u001b[1;32m     30\u001b[0m                                                     gamma2\u001b[38;5;241m=\u001b[39mgamma2) \u001b[38;5;28;01mfor\u001b[39;00m var \u001b[38;5;129;01min\u001b[39;00m [anchor_var]}\n",
      "Cell \u001b[0;32mIn[13], line 25\u001b[0m, in \u001b[0;36m<dictcomp>\u001b[0;34m(.0)\u001b[0m\n\u001b[1;32m     21\u001b[0m silos_index \u001b[38;5;241m=\u001b[39m []\n\u001b[1;32m     22\u001b[0m \u001b[38;5;66;03m# ============= First test =============== #\u001b[39;00m\n\u001b[1;32m     23\u001b[0m sample_dis \u001b[38;5;241m=\u001b[39m {var: generate_uniform_distributions(P0\u001b[38;5;241m=\u001b[39mmarginal_prob(merged_df, [var]),\n\u001b[1;32m     24\u001b[0m                                                     num_gen\u001b[38;5;241m=\u001b[39mnum_env, \n\u001b[0;32m---> 25\u001b[0m                                                     gamma2\u001b[38;5;241m=\u001b[39m\u001b[43mgamma2\u001b[49m) \u001b[38;5;28;01mfor\u001b[39;00m var \u001b[38;5;129;01min\u001b[39;00m [mb_var]}\n\u001b[1;32m     26\u001b[0m silos_index \u001b[38;5;241m+\u001b[39m\u001b[38;5;241m=\u001b[39m [multivariate_sampling(merged_df, [mb_var], sample_dis, i) \u001b[38;5;28;01mfor\u001b[39;00m i \u001b[38;5;129;01min\u001b[39;00m \u001b[38;5;28mrange\u001b[39m(num_env)]\n\u001b[1;32m     28\u001b[0m sample_dis \u001b[38;5;241m=\u001b[39m {var: generate_uniform_distributions(P0\u001b[38;5;241m=\u001b[39mmarginal_prob(merged_df, [var]),\n\u001b[1;32m     29\u001b[0m                                                     num_gen\u001b[38;5;241m=\u001b[39mnum_env, \n\u001b[1;32m     30\u001b[0m                                                     gamma2\u001b[38;5;241m=\u001b[39mgamma2) \u001b[38;5;28;01mfor\u001b[39;00m var \u001b[38;5;129;01min\u001b[39;00m [anchor_var]}\n",
      "\u001b[0;31mNameError\u001b[0m: name 'gamma2' is not defined"
     ]
    }
   ],
   "source": [
    "anchor_var = 'X1'\n",
    "anchor_var_id = int(anchor_var[1:]) - 1\n",
    "\n",
    "pa, pa_sp, sp, ch_sp, ch = true_markov_blanket(groundtruth, anchor_var_id)\n",
    "\n",
    "print(\"Parent:\", to_list(all_vars, pa))\n",
    "print(\"Pa-Sp:\", to_list(all_vars, pa_sp))\n",
    "print(\"Spouses:\", to_list(all_vars, sp))\n",
    "print(\"Ch-Sp:\", to_list(all_vars, ch_sp))\n",
    "print(\"Children:\", to_list(all_vars, ch))\n",
    "\n",
    "\n",
    "num_env = 10\n",
    "gamma = 0.8\n",
    "\n",
    "pseudo_pa = []\n",
    "pseudo_ch = []\n",
    "\n",
    "for mb_var in markov_blankets[anchor_var]:\n",
    "# for mb_var in np.array(all_vars)[np.where(groundtruth[anchor_var_id])]:\n",
    "    silos_index = []\n",
    "    # ============= First test =============== #\n",
    "    sample_dis = {var: generate_uniform_distributions(P0=marginal_prob(merged_df, [var]),\n",
    "                                                        num_gen=num_env, \n",
    "                                                        gamma2=gamma2) for var in [mb_var]}\n",
    "    silos_index += [multivariate_sampling(merged_df, [mb_var], sample_dis, i) for i in range(num_env)]\n",
    "\n",
    "    sample_dis = {var: generate_uniform_distributions(P0=marginal_prob(merged_df, [var]),\n",
    "                                                        num_gen=num_env, \n",
    "                                                        gamma2=gamma2) for var in [anchor_var]}\n",
    "    silos_index += [multivariate_sampling(merged_df, [anchor_var], sample_dis, i) for i in range(num_env)]\n",
    "\n",
    "\n",
    "    # ============= Second test =============== #\n",
    "    variance1, _ = compute_weighted_variance_viaindexesv2(silos_index, anchor_var, [mb_var])\n",
    "    variance2, _ = compute_weighted_variance_viaindexesv2(silos_index, mb_var, [anchor_var])\n",
    "\n",
    "    if variance1 > variance2:\n",
    "        pseudo_ch.append(mb_var)\n",
    "    else:\n",
    "        pseudo_pa.append(mb_var)\n",
    "\n",
    "print(\"Pseudo-pa:\", pseudo_pa)\n",
    "print(\"Pseudo-ch:\", pseudo_ch)"
   ]
  },
  {
   "cell_type": "code",
   "execution_count": 144,
   "metadata": {},
   "outputs": [
    {
     "data": {
      "text/plain": [
       "[('X13', 'X19', 'X21', 'X26', 'X28'),\n",
       " ('X13', 'X28', 'X34'),\n",
       " ('X2', 'X28', 'X29', 'X34', 'X37')]"
      ]
     },
     "execution_count": 144,
     "metadata": {},
     "output_type": "execute_result"
    }
   ],
   "source": [
    "potential_parents[anchor_var]"
   ]
  },
  {
   "cell_type": "code",
   "execution_count": 75,
   "metadata": {},
   "outputs": [
    {
     "name": "stdout",
     "output_type": "stream",
     "text": [
      "0.0013056590460801324\n"
     ]
    }
   ],
   "source": [
    "\n",
    "print(variance)"
   ]
  },
  {
   "cell_type": "code",
   "execution_count": 13,
   "metadata": {},
   "outputs": [],
   "source": [
    "individual_silos = {}\n",
    "num_env = 50\n",
    "gamma2 = 0.5\n",
    "\n",
    "for var in markov_blankets['X2'] + ['X2']:\n",
    "    sample_dis = {var: generate_uniform_distributions(P0=marginal_prob(merged_df, [var]), num_gen=num_env, gamma2=gamma2)}\n",
    "    individual_silos[var] = [multivariate_sampling(merged_df, [var], sample_dis, i) for i in range(num_env)]"
   ]
  },
  {
   "cell_type": "code",
   "execution_count": 14,
   "metadata": {},
   "outputs": [
    {
     "data": {
      "text/plain": [
       "dict_keys(['X5', 'X18', 'X20', 'X34', 'X16', 'X38', 'X31', 'X33', 'X30', 'X29', 'X3', 'X32', 'X28', 'X15', 'X37', 'X2'])"
      ]
     },
     "execution_count": 14,
     "metadata": {},
     "output_type": "execute_result"
    }
   ],
   "source": [
    "individual_silos.keys()"
   ]
  },
  {
   "cell_type": "code",
   "execution_count": 15,
   "metadata": {},
   "outputs": [],
   "source": [
    "record = []\n",
    "for var in markov_blankets['X2']:\n",
    "    variance1, _ = compute_weighted_variance_viaindexesv2(individual_silos['X2'], 'X2', [var])\n",
    "    variance2, _ = compute_weighted_variance_viaindexesv2(individual_silos[var], 'X2', [var])\n",
    "    record.append([var, variance1, variance2])"
   ]
  },
  {
   "cell_type": "code",
   "execution_count": 17,
   "metadata": {},
   "outputs": [
    {
     "data": {
      "text/plain": [
       "[['X15', 0.0001900063687383028, 4.2406626702840014e-07],\n",
       " ['X32', 0.00019012827455625758, 4.7520896413502624e-07],\n",
       " ['X33', 0.0001931070557810126, 4.978066892876072e-07],\n",
       " ['X30', 0.0001901072523611351, 5.000685366621823e-07],\n",
       " ['X20', 0.000190217478224416, 5.066069409215515e-07],\n",
       " ['X37', 0.00019009301578272187, 5.243085231617147e-07],\n",
       " ['X3', 0.00019265404864177594, 5.291254445804123e-07],\n",
       " ['X18', 0.00019592820726375425, 5.348029324125226e-07],\n",
       " ['X34', 0.0002532863195508458, 5.551547050686838e-07],\n",
       " ['X38', 0.0002532448863774968, 6.43807855131014e-07],\n",
       " ['X29', 0.00025320974251718024, 6.672178480474078e-07],\n",
       " ['X5', 0.00025316808179979736, 7.06592077250697e-07],\n",
       " ['X31', 0.00025816278747927877, 7.076029880529071e-07],\n",
       " ['X16', 0.00038316659876494084, 7.300694448082547e-07],\n",
       " ['X28', 0.00025323226567974203, 7.721154937057825e-07]]"
      ]
     },
     "execution_count": 17,
     "metadata": {},
     "output_type": "execute_result"
    }
   ],
   "source": [
    "sorted(record, key=lambda item: item[2])"
   ]
  },
  {
   "cell_type": "code",
   "execution_count": 18,
   "metadata": {},
   "outputs": [
    {
     "name": "stdout",
     "output_type": "stream",
     "text": [
      "1.1421332966310986e-05\n"
     ]
    }
   ],
   "source": [
    "variance, _ = compute_weighted_variance_viaindexesv2(individual_silos['X2'], 'X2', ['X16', 'X18', 'X31', 'X33'])\n",
    "print(variance)"
   ]
  },
  {
   "cell_type": "code",
   "execution_count": null,
   "metadata": {},
   "outputs": [],
   "source": [
    "var = 'X28'\n",
    "indx = int(var[1:]) - 1\n",
    "print(f\"Parent of {var}:\", np.array(all_vars)[np.where(groundtruth[:, indx])])\n",
    "print(f\"Children of {var}:\", np.array(all_vars)[np.where(groundtruth[indx])])"
   ]
  },
  {
   "cell_type": "code",
   "execution_count": null,
   "metadata": {},
   "outputs": [],
   "source": [
    "from multiprocessing import Pool\n",
    "from typing import List, Tuple\n",
    "\n",
    "# Function to execute F in parallel\n",
    "def execute_in_parallel(args_list: List[Tuple]):\n",
    "    with Pool() as pool:\n",
    "        # Map the function F to the arguments in parallel\n",
    "        results = pool.starmap(individual_causal_search, args_list)\n",
    "    return results"
   ]
  },
  {
   "cell_type": "code",
   "execution_count": null,
   "metadata": {},
   "outputs": [],
   "source": [
    "invariance_hardcap = 1e-3\n",
    "\n",
    "outputs = []\n",
    "inputs = [(var, potential_parents[var], silos_index, invariance_hardcap) for var in ['X2']] #potential_parents.keys()\n",
    "outputs = execute_in_parallel(inputs)"
   ]
  },
  {
   "cell_type": "code",
   "execution_count": null,
   "metadata": {},
   "outputs": [],
   "source": [
    "outputs"
   ]
  },
  {
   "cell_type": "code",
   "execution_count": null,
   "metadata": {},
   "outputs": [],
   "source": [
    "true_causal_parents = ()\n",
    "for item in outputs:\n",
    "    true_causal_parents += tuple(item.items())\n",
    "\n",
    "true_causal_parents = dict(true_causal_parents)\n",
    "true_causal_parents"
   ]
  },
  {
   "cell_type": "code",
   "execution_count": null,
   "metadata": {},
   "outputs": [],
   "source": [
    "adj_mtx = np.zeros([len(all_vars), len(all_vars)])\n",
    "for var in true_causal_parents.keys():\n",
    "    if len(true_causal_parents[var]):\n",
    "        parents, invariance = true_causal_parents[var]\n",
    "        var_id = int(var[1:]) - 1\n",
    "        for pa in parents:\n",
    "            pa_id = int(pa[1:]) - 1\n",
    "            if adj_mtx[var_id][pa_id] == 0:\n",
    "                adj_mtx[pa_id][var_id] = invariance\n",
    "            elif adj_mtx[var_id][pa_id] > adj_mtx[pa_id][var_id]:\n",
    "                adj_mtx[pa_id][var_id] = invariance\n",
    "                adj_mtx[var_id][pa_id] = 0"
   ]
  },
  {
   "cell_type": "code",
   "execution_count": null,
   "metadata": {},
   "outputs": [],
   "source": [
    "from plot_utils import true_edge, spur_edge, fals_edge, miss_edge, swap_pos\n",
    "\n",
    "\n",
    "etrue = true_edge(groundtruth, adj_mtx)\n",
    "espur = spur_edge(groundtruth, adj_mtx)\n",
    "efals = fals_edge(groundtruth, adj_mtx)\n",
    "emiss = miss_edge(groundtruth, adj_mtx)\n",
    "\n",
    "# print(etrue)\n",
    "print(len(etrue), len(espur), len(emiss), len(efals))"
   ]
  },
  {
   "cell_type": "code",
   "execution_count": null,
   "metadata": {},
   "outputs": [],
   "source": [
    "import matplotlib.pyplot as plt\n",
    "import networkx as nx\n",
    "\n",
    "G = nx.DiGraph()\n",
    "\n",
    "fin_adjmtx = adj_mtx\n",
    "\n",
    "for i in range(fin_adjmtx.shape[0]):\n",
    "    for j in range(fin_adjmtx.shape[1]):\n",
    "        if fin_adjmtx[i][j] > 0:\n",
    "            G.add_edge(f\"X{i+1}\", f\"X{j+1}\", weight=np.round(1/fin_adjmtx[i][j],2))\n",
    "            # print(\"Here add edge\", f\"X{i+1}\", f\"X{j+1}\")\n",
    "    G.add_node(f\"X{i+1}\")\n",
    "    \n",
    "\n",
    "etrue = true_edge(groundtruth, fin_adjmtx)\n",
    "espur = spur_edge(groundtruth, fin_adjmtx)\n",
    "efals = fals_edge(groundtruth, fin_adjmtx)\n",
    "emiss = miss_edge(groundtruth, fin_adjmtx)\n",
    "\n",
    "# print(etrue)\n",
    "print(len(etrue), len(espur), len(emiss), len(efals))\n",
    "\n",
    "pos = nx.shell_layout(G)\n",
    "pos = swap_pos(pos, 'X4', 'X3')\n",
    "# pos = swap_pos(pos, 'X3', 'X5')\n",
    "# pos = swap_pos(pos, 'X10', 'X5')\n",
    "# pos = swap_pos(pos, 'X10', 'X8')\n",
    "# pos = swap_pos(pos, 'X8', 'X3')\n",
    "# pos = swap_pos(pos, 'X6', 'X5')\n",
    "# pos = swap_pos(pos, 'X1', 'X2')\n",
    "# pos = swap_pos(pos, 'X11', 'X8')\n",
    "# pos = swap_pos(pos, 'X7', 'X19')\n",
    "# pos = swap_pos(pos, 'X20', 'X7')\n",
    "# pos = swap_pos(pos, 'X18', 'X16')\n",
    "\n",
    "\n",
    "# nodes\n",
    "nx.draw_networkx_nodes(G, pos, node_size=400, node_color=\"#1f78b4\")\n",
    "\n",
    "# edges\n",
    "nx.draw_networkx_edges(G, pos, edgelist=espur, width=2, arrowstyle='->', arrowsize=20, edge_color=\"orange\", label=\"Spurious Edges\")\n",
    "nx.draw_networkx_edges(G, pos, edgelist=emiss, width=2, arrowstyle='->', arrowsize=20, edge_color=\"purple\", label=\"Missing Edges\")\n",
    "nx.draw_networkx_edges(G, pos, edgelist=efals, width=2, arrowstyle='->', arrowsize=20, edge_color=\"red\", label=\"Anti-Causal Edges\")\n",
    "nx.draw_networkx_edges(G, pos, edgelist=etrue, width=2, arrowstyle='->', arrowsize=20, edge_color=\"green\", label=\"Causal Edges\")\n",
    "\n",
    "# node labels\n",
    "nx.draw_networkx_labels(G, pos, font_size=12, font_family=\"sans-serif\", font_color='white')\n",
    "\n",
    "# edge weight labels\n",
    "# edge_labels = nx.get_edge_attributes(G, \"weight\")\n",
    "# nx.draw_networkx_edge_labels(G, pos, edge_labels)\n",
    "\n",
    "ax = plt.gca()\n",
    "ax.margins(0.08)\n",
    "plt.axis(\"off\")\n",
    "plt.tight_layout()\n",
    "# plt.box()\n",
    "plt.title(dataname.upper())\n",
    "# plt.legend()\n",
    "plt.show()\n",
    "\n",
    "# plt.savefig(\"res/asia.plot.svg\", format=\"svg\")"
   ]
  }
 ],
 "metadata": {
  "kernelspec": {
   "display_name": "easyFL",
   "language": "python",
   "name": "python3"
  },
  "language_info": {
   "codemirror_mode": {
    "name": "ipython",
    "version": 3
   },
   "file_extension": ".py",
   "mimetype": "text/x-python",
   "name": "python",
   "nbconvert_exporter": "python",
   "pygments_lexer": "ipython3",
   "version": "3.8.18"
  }
 },
 "nbformat": 4,
 "nbformat_minor": 2
}

{
 "cells": [
  {
   "cell_type": "markdown",
   "metadata": {},
   "source": [
    "#### Env: Minh"
   ]
  },
  {
   "cell_type": "code",
   "execution_count": 8,
   "metadata": {},
   "outputs": [
    {
     "name": "stdout",
     "output_type": "stream",
     "text": [
      "Loaded file: ./data/distributed/asia/m3_d1_n10/silo-0.csv\t5000  Instances 8 Variables\n",
      "Loaded file: ./data/distributed/asia/m3_d1_n10/silo-1.csv\t5000  Instances 8 Variables\n",
      "Loaded file: ./data/distributed/asia/m3_d1_n10/silo-2.csv\t5000  Instances 8 Variables\n",
      "Loaded file: ./data/distributed/asia/m3_d1_n10/silo-3.csv\t5000  Instances 8 Variables\n",
      "Loaded file: ./data/distributed/asia/m3_d1_n10/silo-4.csv\t5000  Instances 8 Variables\n",
      "Loaded file: ./data/distributed/asia/m3_d1_n10/silo-5.csv\t5000  Instances 8 Variables\n",
      "Loaded file: ./data/distributed/asia/m3_d1_n10/silo-6.csv\t5000  Instances 8 Variables\n",
      "Loaded file: ./data/distributed/asia/m3_d1_n10/silo-7.csv\t5000  Instances 8 Variables\n",
      "Loaded file: ./data/distributed/asia/m3_d1_n10/silo-8.csv\t5000  Instances 8 Variables\n",
      "Loaded file: ./data/distributed/asia/m3_d1_n10/silo-9.csv\t5000  Instances 8 Variables\n"
     ]
    }
   ],
   "source": [
    "import pandas as pd\n",
    "from upgrade import *\n",
    "from causallearn.utils.cit import CIT\n",
    "import numpy as np\n",
    "from pathlib import Path\n",
    "import os\n",
    "from tqdm import tqdm\n",
    "\n",
    "dataname = \"asia\"\n",
    "# dataname = \"erdos_renyi/d40_p0.1\"\n",
    "mi = 3      # The number of values a variable can take is ranged in [2, mi-1]\n",
    "di = 1      # The dirichlet alpha that controls the data distribution\n",
    "n = 10      # The number of data silos\n",
    "\n",
    "silos = []\n",
    "\n",
    "folderpath = f\"./data/distributed/{dataname}/m{mi}_d{di}_n{n}\"\n",
    "groundtruth = np.loadtxt(f\"./data/distributed/{dataname}/adj.txt\")\n",
    "\n",
    "if not Path(folderpath).exists():\n",
    "    print(\"Folder\", folderpath, \"not exist!\")\n",
    "else:\n",
    "    for file in sorted(os.listdir(folderpath)):\n",
    "        filename = os.path.join(folderpath, file)\n",
    "        silo_data = pd.read_csv(filename)\n",
    "        silos.append(silo_data)\n",
    "        print(\"Loaded file:\", filename, end=\"\\t\")\n",
    "        print(len(silo_data), \" Instances\", len(silo_data.columns), \"Variables\")\n",
    "\n",
    "merged_df = pd.concat(silos[:-1], axis=0)\n",
    "merged_df = merged_df.reindex(sorted(merged_df.columns, key=lambda item: int(item[1:])), axis=1)\n",
    "all_vars = list(merged_df.columns)"
   ]
  },
  {
   "cell_type": "code",
   "execution_count": 57,
   "metadata": {},
   "outputs": [],
   "source": [
    "confidence = 0.01\n",
    "connectivity = {var: [] for var in all_vars}\n",
    "chisq_obj = CIT(merged_df, \"chisq\")\n",
    "\n",
    "for X in connectivity.keys():\n",
    "    other_vars = list(set(all_vars) - set(connectivity[X]) - set([X]))\n",
    "    for Y in other_vars:\n",
    "        pval = chisq_obj(all_vars.index(X), all_vars.index(Y), []) # type: ignore\n",
    "        if pval <= confidence: # type: ignore\n",
    "            connectivity[X] = list(set(connectivity[X]) | set([Y]))\n",
    "            connectivity[Y] = list(set(connectivity[Y]) | set([X]))"
   ]
  },
  {
   "cell_type": "code",
   "execution_count": 125,
   "metadata": {},
   "outputs": [
    {
     "data": {
      "text/plain": [
       "{'X1': ['X8', 'X3', 'X2', 'X5', 'X4', 'X7', 'X6'],\n",
       " 'X2': ['X8', 'X3', 'X5', 'X7', 'X1', 'X6'],\n",
       " 'X3': ['X8', 'X2', 'X5', 'X4', 'X1', 'X6'],\n",
       " 'X4': ['X8', 'X3', 'X5', 'X7', 'X1', 'X6'],\n",
       " 'X5': ['X8', 'X3', 'X2', 'X4', 'X1', 'X6'],\n",
       " 'X6': ['X8', 'X3', 'X2', 'X5', 'X4', 'X1', 'X7'],\n",
       " 'X7': ['X8', 'X2', 'X4', 'X1', 'X6'],\n",
       " 'X8': ['X3', 'X2', 'X5', 'X4', 'X7', 'X1', 'X6']}"
      ]
     },
     "execution_count": 125,
     "metadata": {},
     "output_type": "execute_result"
    }
   ],
   "source": [
    "connectivity"
   ]
  },
  {
   "cell_type": "code",
   "execution_count": 58,
   "metadata": {},
   "outputs": [
    {
     "name": "stdout",
     "output_type": "stream",
     "text": [
      "['X7', 'X2', 'X3', 'X4', 'X5', 'X1', 'X6', 'X8']\n"
     ]
    },
    {
     "data": {
      "text/plain": [
       "['X7', 'X3']"
      ]
     },
     "execution_count": 58,
     "metadata": {},
     "output_type": "execute_result"
    }
   ],
   "source": [
    "basis = []\n",
    "ordering = sorted(all_vars, key=lambda item: len(connectivity[item]), reverse=False)\n",
    "print(ordering)\n",
    "\n",
    "while len(ordering):\n",
    "    x = ordering.pop(0)\n",
    "    discard_vars = connectivity[x]\n",
    "    ordering = sorted(list(set(ordering) - set(discard_vars)), \n",
    "                    key=lambda item: len(list(set(connectivity[item]) - set(discard_vars))), reverse=False)\n",
    "    basis.append(x)\n",
    "    \n",
    "basis"
   ]
  },
  {
   "cell_type": "code",
   "execution_count": 59,
   "metadata": {},
   "outputs": [],
   "source": [
    "from copy import deepcopy\n",
    "\n",
    "def GSMB(indexes, confidence=0.01):\n",
    "    data = merged_df.iloc[indexes].reset_index().drop(columns=['index'])\n",
    "    chisq_obj = CIT(data, \"chisq\") # construct a CIT instance with data and method name\n",
    "    all_var_idx = [i for i in range(len(data.columns))]\n",
    "    markov_blankets_idx = {i: [] for i in range(len(data.columns))}\n",
    "\n",
    "    for X in all_var_idx:\n",
    "        S = []\n",
    "        prev_length = 0\n",
    "        count = 0\n",
    "        while True:\n",
    "            count += 1\n",
    "            # print(\"==============New cycle==================\")\n",
    "            for Y in list(set(all_var_idx) - set(S) - set([X])):\n",
    "                if Y != X:\n",
    "                    pval = chisq_obj(X, Y, S) # type:ignore\n",
    "                    if pval <= confidence: # type:ignore\n",
    "                        S.append(Y)\n",
    "            \n",
    "            for Y in deepcopy(S):\n",
    "                pval = chisq_obj(X, Y, list(set(S) - set([Y]))) # type:ignore\n",
    "                if pval > confidence: # type:ignore\n",
    "                    S.remove(Y)\n",
    "            \n",
    "            if (len(S) - prev_length == 0) or (count > 2):\n",
    "                break\n",
    "            else:\n",
    "                prev_length = len(S)\n",
    "        markov_blankets_idx[X] = list(set(markov_blankets_idx[X])|set(S))\n",
    "    \n",
    "    markov_blankets = {var: [] for var in all_vars}\n",
    "    for idx, mb_idxes in markov_blankets_idx.items():\n",
    "        var = all_vars[idx]\n",
    "        markov_blankets[var] = [all_vars[i] for i in mb_idxes]\n",
    "    \n",
    "    return markov_blankets"
   ]
  },
  {
   "cell_type": "code",
   "execution_count": 60,
   "metadata": {},
   "outputs": [],
   "source": [
    "def true_markov_blanket(adj_matrix, var_idx):\n",
    "    parents = np.where(adj_matrix[:, var_idx])[0].tolist()\n",
    "    children = np.where(adj_matrix[var_idx])[0].tolist()\n",
    "    \n",
    "    spouses = set()\n",
    "    for c in children:\n",
    "        for sp in np.where(adj_matrix[:, c])[0]:\n",
    "            spouses.add(sp)\n",
    "    \n",
    "    pa_sp = list(set(parents)&spouses)\n",
    "    ch_sp = list(set(children)&spouses)\n",
    "    spouses = list(spouses - set(pa_sp) - set(ch_sp))\n",
    "    \n",
    "    return parents, pa_sp, spouses, ch_sp, children\n",
    "\n",
    "\n",
    "def to_list(all_vars, mb_idx_list):\n",
    "    return [all_vars[i] for i in mb_idx_list]"
   ]
  },
  {
   "cell_type": "code",
   "execution_count": 61,
   "metadata": {},
   "outputs": [],
   "source": [
    "TMB_activated = 1\n",
    "markov_blankets = {var: [] for var in all_vars}\n",
    "\n",
    "if TMB_activated:\n",
    "    for var in markov_blankets.keys():\n",
    "        pa, pa_sp, sp, ch_sp, ch = true_markov_blanket(groundtruth, int(var[1:]) - 1)\n",
    "        markov_blankets[var] = list(set(to_list(all_vars, pa + pa_sp + sp + ch_sp + ch)) - set([var]))\n",
    "else:\n",
    "    markov_blankets = GSMB([i for i in range(len(merged_df))])"
   ]
  },
  {
   "cell_type": "code",
   "execution_count": 62,
   "metadata": {},
   "outputs": [],
   "source": [
    "def generate_uniform_distributions(P0: np.ndarray, num_gen=100, gamma2=0.8):\n",
    "    Ulist = list(np.eye(P0.shape[0]))\n",
    "    # Compute the boundary points\n",
    "    boundaries = []\n",
    "    for i in range(len(Ulist)):\n",
    "        if P0[i]/gamma2 < 1:\n",
    "            alpha_i = 1/(1 - P0[i]) * (1 - P0[i]/(gamma2 + 0.001))\n",
    "            boundary_i = alpha_i * P0 + (1 - alpha_i) * Ulist[i]\n",
    "        else:\n",
    "            boundary_i = Ulist[i]\n",
    "        boundaries.append(boundary_i)\n",
    "    \n",
    "    boundaries = np.stack(boundaries)\n",
    "    w = np.concatenate([np.random.dirichlet([alpha/2] * len(Ulist), size=num_gen) for alpha in range(1, 10)])\n",
    "    \n",
    "    kmeans = KMeans(n_clusters=num_gen, n_init=\"auto\")\n",
    "    kmeans.fit(w @ boundaries)\n",
    "    res = kmeans.cluster_centers_\n",
    "    \n",
    "    return res\n",
    "\n",
    "def multivariate_sampling(data: pd.DataFrame, variables: list, sample_dis: dict, instance_index):\n",
    "    remains = deepcopy(variables)\n",
    "    while len(remains):\n",
    "        sampling_var = remains.pop(0)\n",
    "        distribution = sample_dis[sampling_var][instance_index]\n",
    "        _, all_index = univariate_sampling(data, sampling_var, {i: distribution[i] for i in range(distribution.shape[0])})\n",
    "    return all_index"
   ]
  },
  {
   "cell_type": "code",
   "execution_count": 63,
   "metadata": {},
   "outputs": [],
   "source": [
    "def recursive_conn(neighbors):\n",
    "    output = []\n",
    "    if len(neighbors) <= 1:\n",
    "      output = [neighbors]\n",
    "    else:\n",
    "      for i in neighbors:\n",
    "        res_i = [i] + recursive_conn(list(set(neighbors)&set(markov_blankets[i])))\n",
    "        output.append(res_i)\n",
    "    return output\n",
    "\n",
    "def unfold(input):\n",
    "    \"\"\"\n",
    "    Arguments:\n",
    "      input: [var, var, ..., [var, ...], [var, ...]]\n",
    "\n",
    "    that has a number of non-list element and a number of list element\n",
    "    \"\"\"\n",
    "    cut_index = 0\n",
    "    while cut_index < len(input):\n",
    "      cut_index += 1\n",
    "      if isinstance(input[cut_index], list):\n",
    "        break\n",
    "\n",
    "    out = []\n",
    "    for i in range(cut_index, len(input)):\n",
    "      out.append([*input[:cut_index], *input[i]])\n",
    "    return out"
   ]
  },
  {
   "cell_type": "code",
   "execution_count": 64,
   "metadata": {},
   "outputs": [
    {
     "name": "stderr",
     "output_type": "stream",
     "text": [
      "100%|██████████| 8/8 [00:00<00:00, 26379.27it/s]\n"
     ]
    }
   ],
   "source": [
    "recursive_outputs = {}\n",
    "\n",
    "for anchor_var in tqdm(markov_blankets.keys()):\n",
    "    recursive_outputs[anchor_var] = recursive_conn(deepcopy(markov_blankets[anchor_var]))"
   ]
  },
  {
   "cell_type": "code",
   "execution_count": 65,
   "metadata": {},
   "outputs": [
    {
     "name": "stderr",
     "output_type": "stream",
     "text": [
      "                                     \r"
     ]
    }
   ],
   "source": [
    "potential_parents = {}\n",
    "\n",
    "for anchor_var in tqdm(markov_blankets.keys(), leave=False):\n",
    "    # anchor_var = 'X1'\n",
    "    recursive_output = recursive_outputs[anchor_var]\n",
    "\n",
    "    final_output = set()\n",
    "    for i in range(len(recursive_output)):\n",
    "        test_case = deepcopy(recursive_output[i])\n",
    "        unique_elements = set()\n",
    "        if len(test_case) == 1:\n",
    "            unique_elements.add(tuple(test_case))\n",
    "        else:\n",
    "            first_element = test_case.pop(0)\n",
    "            while len(test_case):\n",
    "                examine_group = test_case.pop(0)\n",
    "                if len(examine_group) and not isinstance(examine_group[0], list) and isinstance(examine_group[-1], list):\n",
    "                    test_case += [*unfold(examine_group)]\n",
    "                else:\n",
    "                    unique_elements.add(tuple(sorted(examine_group + [first_element])))\n",
    "        \n",
    "        final_output = final_output|unique_elements\n",
    "    potential_parents[anchor_var] = [j for j in final_output]"
   ]
  },
  {
   "cell_type": "code",
   "execution_count": 66,
   "metadata": {},
   "outputs": [],
   "source": [
    "def compute_variance_viaindexesv2(indexes: list, variable: str, parents: list):\n",
    "    conditional_probs_record = merged_df[parents + [variable]].groupby(parents + [variable]).count().reset_index()\n",
    "    mll_list = []\n",
    "    env = 0\n",
    "    for index in indexes:\n",
    "        vertical_sampled_data = merged_df.iloc[index].reset_index()\n",
    "        vertical_sampled_data = vertical_sampled_data.drop(columns=['index'])\n",
    "        vertical_sampled_data.insert(0, 'count', [1] * len(vertical_sampled_data))\n",
    "        \n",
    "        summary_with_ch = vertical_sampled_data.groupby(parents + [variable])['count'].sum().reset_index()\n",
    "        mll, output = compute_mll(summary_with_ch, parents, env)\n",
    "        conditional_probs_record = conditional_probs_record.merge(output, on=parents + [variable], how='left')\n",
    "        mll_list.append(mll)\n",
    "        env += 1\n",
    "    \n",
    "    mean_mll = np.mean(mll_list)\n",
    "    var_avg = conditional_probs_record.iloc[:, len(parents) + 1:].var(axis=1, skipna=True).mean()\n",
    "    return var_avg, mean_mll, conditional_probs_record\n",
    "\n",
    "\n",
    "def compute_weighted_variance_viaindexesv2(indexes: list, variable: str, parents: list):\n",
    "    variance, _, df = compute_variance_viaindexesv2(indexes, variable, parents)\n",
    "    if len(parents):\n",
    "        joint_mat = np.array([df[f'joint_{i}'] for i in range(len(indexes))]).T\n",
    "        probs_mat = np.array([df[f'probs_{i}'] for i in range(len(indexes))]).T\n",
    "        probs_mean = []\n",
    "        for i in range(probs_mat.shape[0]):\n",
    "            if len(probs_mat[i][~np.isnan(probs_mat[i])]):\n",
    "                probs_mean.append(np.mean(probs_mat[i][~np.isnan(probs_mat[i])]).item())\n",
    "            else:\n",
    "                probs_mean.append(0)\n",
    "                \n",
    "        probs_mean = np.expand_dims(np.array(probs_mean), 1)\n",
    "        # joint_mat = joint_mat.shape[1] * joint_mat/joint_mat.sum(axis=1, keepdims=True)\n",
    "        prod = joint_mat * (probs_mat - probs_mean)**2\n",
    "        return np.power(np.mean(prod[~np.isnan(prod)]), 0.5), parents\n",
    "    else:\n",
    "        return variance, parents"
   ]
  },
  {
   "cell_type": "markdown",
   "metadata": {},
   "source": [
    "#### Version 2 -- Given the leaves"
   ]
  },
  {
   "cell_type": "code",
   "execution_count": 67,
   "metadata": {},
   "outputs": [],
   "source": [
    "from multiprocessing import Pool\n",
    "from typing import List, Tuple\n",
    "\n",
    "\n",
    "def individual_causal_search(var, silos_index):\n",
    "    record = {}\n",
    "    for mb_var in markov_blankets[var]:\n",
    "        variance, _ = compute_weighted_variance_viaindexesv2(silos_index, var, [mb_var])\n",
    "        record[tuple([mb_var])] = variance\n",
    "    return {var: record}\n",
    "\n",
    "\n",
    "# Function to execute F in parallel\n",
    "def execute_in_parallel(args_list: List[Tuple]):\n",
    "    with Pool() as pool:\n",
    "        # Map the function F to the arguments in parallel\n",
    "        results = pool.starmap(individual_causal_search, args_list)\n",
    "    return results"
   ]
  },
  {
   "cell_type": "code",
   "execution_count": 112,
   "metadata": {},
   "outputs": [],
   "source": [
    "leaves = ['X8']"
   ]
  },
  {
   "cell_type": "code",
   "execution_count": 113,
   "metadata": {},
   "outputs": [],
   "source": [
    "num_env = 10\n",
    "gamma2 = 0.5\n",
    "\n",
    "sample_dis = {x: generate_uniform_distributions(P0=marginal_prob(merged_df, [x]),\n",
    "                                                num_gen=num_env, \n",
    "                                                gamma2=np.power(gamma2, 1./len(leaves))) for x in leaves}\n",
    "silos_index = [multivariate_sampling(merged_df, leaves, sample_dis, i) for i in range(num_env)]\n",
    "\n",
    "inputs = [(var, silos_index) for var in markov_blankets.keys()]\n",
    "outputs = execute_in_parallel(inputs)\n",
    "\n",
    "results = tuple()\n",
    "for out_dict in outputs:\n",
    "    results += tuple(out_dict.items())\n",
    "\n",
    "results = dict(results)"
   ]
  },
  {
   "cell_type": "code",
   "execution_count": 114,
   "metadata": {},
   "outputs": [],
   "source": [
    "weighted_mtx = np.ones([len(all_vars), len(all_vars)])\n",
    "\n",
    "for var in results.keys(): #type:ignore\n",
    "    var_id = all_vars.index(var)\n",
    "    best_comb, best_variance = min(results[var].items(), key=lambda item: item[1])\n",
    "    # print(var, best_comb, best_variance)\n",
    "    \n",
    "    for parent in best_comb:\n",
    "        pa_id = all_vars.index(parent)\n",
    "        if best_variance < weighted_mtx[var_id][pa_id]:\n",
    "            weighted_mtx[pa_id][var_id] = best_variance\n",
    "            weighted_mtx[var_id][pa_id] = 1"
   ]
  },
  {
   "cell_type": "code",
   "execution_count": 115,
   "metadata": {},
   "outputs": [],
   "source": [
    "weighted_mtx[weighted_mtx == 1] = 0\n",
    "adj_mtx = (weighted_mtx > 0) * 1\n",
    "adj_mtx = adj_mtx.T\n",
    "# adj_mtx"
   ]
  },
  {
   "cell_type": "code",
   "execution_count": 116,
   "metadata": {},
   "outputs": [
    {
     "name": "stdout",
     "output_type": "stream",
     "text": [
      "6 2 1 1\n"
     ]
    }
   ],
   "source": [
    "from plot_utils import true_edge, spur_edge, fals_edge, miss_edge, swap_pos\n",
    "\n",
    "etrue = true_edge(groundtruth, adj_mtx)\n",
    "espur = spur_edge(groundtruth, adj_mtx)\n",
    "efals = fals_edge(groundtruth, adj_mtx)\n",
    "emiss = miss_edge(groundtruth, adj_mtx)\n",
    "\n",
    "print(len(etrue), len(espur), len(emiss), len(efals))"
   ]
  },
  {
   "cell_type": "code",
   "execution_count": 117,
   "metadata": {},
   "outputs": [
    {
     "data": {
      "text/plain": [
       "['X1', 'X3', 'X5']"
      ]
     },
     "execution_count": 117,
     "metadata": {},
     "output_type": "execute_result"
    }
   ],
   "source": [
    "sources_idx = np.array([i for i in range(len(all_vars)) if np.sum(adj_mtx[:, i]) == 0])\n",
    "sources = np.array(all_vars)[sources_idx].tolist()\n",
    "sources = list(set(sources) - set(basis))\n",
    "sources"
   ]
  },
  {
   "cell_type": "markdown",
   "metadata": {},
   "source": [
    "#### Version 1 -- Given the sources"
   ]
  },
  {
   "cell_type": "code",
   "execution_count": 118,
   "metadata": {},
   "outputs": [],
   "source": [
    "# sources = ['X2', 'X5']"
   ]
  },
  {
   "cell_type": "code",
   "execution_count": 119,
   "metadata": {},
   "outputs": [],
   "source": [
    "from multiprocessing import Pool\n",
    "from typing import List, Tuple\n",
    "from itertools import combinations\n",
    "\n",
    "capsize = 8\n",
    "\n",
    "def individual_causal_search(var, silos_index):\n",
    "    buffers = {}\n",
    "    for group in sorted(potential_parents[var], key=lambda item: len(item)):\n",
    "        for l in range(1, min(len(group)+1,capsize)).__reversed__():\n",
    "            for comb in combinations(group, l):\n",
    "                comb = tuple(sorted(comb))\n",
    "                if comb not in buffers.keys():\n",
    "                    variance, _ = compute_weighted_variance_viaindexesv2(silos_index, var, list(comb))\n",
    "                    buffers[comb] = variance\n",
    "    return {var: buffers}\n",
    "\n",
    "\n",
    "# Function to execute F in parallel\n",
    "def execute_in_parallel(args_list: List[Tuple]):\n",
    "    with Pool() as pool:\n",
    "        # Map the function F to the arguments in parallel\n",
    "        results = pool.starmap(individual_causal_search, args_list)\n",
    "    return results"
   ]
  },
  {
   "cell_type": "code",
   "execution_count": 120,
   "metadata": {},
   "outputs": [],
   "source": [
    "num_env = 10\n",
    "gamma2 = 0.5\n",
    "\n",
    "sample_dis = {x: generate_uniform_distributions(P0=marginal_prob(merged_df, [x]),\n",
    "                                                num_gen=num_env, \n",
    "                                                gamma2=np.power(gamma2, 1./len(sources))) for x in sources}\n",
    "silos_index = [multivariate_sampling(merged_df, sources, sample_dis, i) for i in range(num_env)]\n",
    "\n",
    "inputs = [(var, silos_index) for var in markov_blankets.keys()]\n",
    "outputs = execute_in_parallel(inputs)\n",
    "\n",
    "results = tuple()\n",
    "for out_dict in outputs:\n",
    "    results += tuple(out_dict.items())\n",
    "\n",
    "results = dict(results)"
   ]
  },
  {
   "cell_type": "code",
   "execution_count": 121,
   "metadata": {},
   "outputs": [],
   "source": [
    "weighted_mtx = np.ones([len(all_vars), len(all_vars)])\n",
    "\n",
    "for var in results.keys(): #type:ignore\n",
    "    var_id = all_vars.index(var)\n",
    "    best_comb, best_variance = min(results[var].items(), key=lambda item: item[1])\n",
    "    # print(var, best_comb, best_variance)\n",
    "    \n",
    "    for parent in best_comb:\n",
    "        pa_id = all_vars.index(parent)\n",
    "        if best_variance < weighted_mtx[var_id][pa_id]:\n",
    "            weighted_mtx[pa_id][var_id] = best_variance\n",
    "            weighted_mtx[var_id][pa_id] = 1"
   ]
  },
  {
   "cell_type": "code",
   "execution_count": 122,
   "metadata": {},
   "outputs": [],
   "source": [
    "hardcap_invariance = 1e-3\n",
    "weighted_mtx[weighted_mtx > hardcap_invariance] = 0\n",
    "adj_mtx = (weighted_mtx > 0) * 1\n",
    "# adj_mtx"
   ]
  },
  {
   "cell_type": "code",
   "execution_count": 123,
   "metadata": {},
   "outputs": [
    {
     "name": "stdout",
     "output_type": "stream",
     "text": [
      "6 0 1 1\n"
     ]
    }
   ],
   "source": [
    "from plot_utils import true_edge, spur_edge, fals_edge, miss_edge, swap_pos\n",
    "\n",
    "etrue = true_edge(groundtruth, adj_mtx)\n",
    "espur = spur_edge(groundtruth, adj_mtx)\n",
    "efals = fals_edge(groundtruth, adj_mtx)\n",
    "emiss = miss_edge(groundtruth, adj_mtx)\n",
    "\n",
    "print(len(etrue), len(espur), len(emiss), len(efals))"
   ]
  },
  {
   "cell_type": "markdown",
   "metadata": {},
   "source": [
    "#### Plot -- Graphs"
   ]
  },
  {
   "cell_type": "code",
   "execution_count": 124,
   "metadata": {},
   "outputs": [
    {
     "name": "stdout",
     "output_type": "stream",
     "text": [
      "6 0 1 1\n"
     ]
    },
    {
     "data": {
      "image/png": "[encoded data removed]",
      "text/plain": [
       "<Figure size 640x480 with 1 Axes>"
      ]
     },
     "metadata": {},
     "output_type": "display_data"
    }
   ],
   "source": [
    "import matplotlib.pyplot as plt\n",
    "import networkx as nx\n",
    "\n",
    "G = nx.DiGraph()\n",
    "\n",
    "fin_adjmtx = adj_mtx\n",
    "\n",
    "for i in range(fin_adjmtx.shape[0]):\n",
    "    for j in range(fin_adjmtx.shape[1]):\n",
    "        if fin_adjmtx[i][j] > 0:\n",
    "            G.add_edge(f\"X{i+1}\", f\"X{j+1}\", weight=np.round(1/fin_adjmtx[i][j],2))\n",
    "            # print(\"Here add edge\", f\"X{i+1}\", f\"X{j+1}\")\n",
    "    G.add_node(f\"X{i+1}\")\n",
    "    \n",
    "\n",
    "etrue = true_edge(groundtruth, fin_adjmtx)\n",
    "espur = spur_edge(groundtruth, fin_adjmtx)\n",
    "efals = fals_edge(groundtruth, fin_adjmtx)\n",
    "emiss = miss_edge(groundtruth, fin_adjmtx)\n",
    "\n",
    "# print(etrue)\n",
    "print(len(etrue), len(espur), len(emiss), len(efals))\n",
    "\n",
    "pos = nx.shell_layout(G)\n",
    "pos = swap_pos(pos, 'X4', 'X3')\n",
    "# pos = swap_pos(pos, 'X3', 'X5')\n",
    "\n",
    "# nodes\n",
    "nx.draw_networkx_nodes(G, pos, node_size=400, node_color=\"#1f78b4\")\n",
    "\n",
    "# edges\n",
    "nx.draw_networkx_edges(G, pos, edgelist=espur, width=2, arrowstyle='->', arrowsize=20, edge_color=\"orange\", label=\"Spurious Edges\")\n",
    "nx.draw_networkx_edges(G, pos, edgelist=emiss, width=2, arrowstyle='->', arrowsize=20, edge_color=\"purple\", label=\"Missing Edges\")\n",
    "nx.draw_networkx_edges(G, pos, edgelist=efals, width=2, arrowstyle='->', arrowsize=20, edge_color=\"red\", label=\"Anti-Causal Edges\")\n",
    "nx.draw_networkx_edges(G, pos, edgelist=etrue, width=2, arrowstyle='->', arrowsize=20, edge_color=\"green\", label=\"Causal Edges\")\n",
    "\n",
    "# node labels\n",
    "nx.draw_networkx_labels(G, pos, font_size=12, font_family=\"sans-serif\", font_color='white')\n",
    "\n",
    "# edge weight labels\n",
    "# edge_labels = nx.get_edge_attributes(G, \"weight\")\n",
    "# nx.draw_networkx_edge_labels(G, pos, edge_labels)\n",
    "\n",
    "ax = plt.gca()\n",
    "ax.margins(0.08)\n",
    "plt.axis(\"off\")\n",
    "plt.tight_layout()\n",
    "# plt.box()\n",
    "plt.title(dataname.upper())\n",
    "# plt.legend()\n",
    "plt.show()\n",
    "\n",
    "# plt.savefig(\"res/asia.plot.svg\", format=\"svg\")"
   ]
  },
  {
   "cell_type": "code",
   "execution_count": null,
   "metadata": {},
   "outputs": [],
   "source": []
  }
 ],
 "metadata": {
  "kernelspec": {
   "display_name": "easyFL",
   "language": "python",
   "name": "python3"
  },
  "language_info": {
   "codemirror_mode": {
    "name": "ipython",
    "version": 3
   },
   "file_extension": ".py",
   "mimetype": "text/x-python",
   "name": "python",
   "nbconvert_exporter": "python",
   "pygments_lexer": "ipython3",
   "version": "3.8.18"
  }
 },
 "nbformat": 4,
 "nbformat_minor": 2
}

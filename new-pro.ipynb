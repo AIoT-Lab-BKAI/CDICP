{
 "cells": [
  {
   "cell_type": "markdown",
   "metadata": {},
   "source": [
    "#### Env: Minh"
   ]
  },
  {
   "cell_type": "code",
   "execution_count": 1,
   "metadata": {},
   "outputs": [
    {
     "name": "stdout",
     "output_type": "stream",
     "text": [
      "Loaded file: ./data/distributed/erdos_renyi/d100_p0.02/m5_d1.0_n10/silo-0.csv\t2500  Instances 100 Variables\n",
      "Loaded file: ./data/distributed/erdos_renyi/d100_p0.02/m5_d1.0_n10/silo-1.csv\t2500  Instances 100 Variables\n",
      "Loaded file: ./data/distributed/erdos_renyi/d100_p0.02/m5_d1.0_n10/silo-2.csv\t2500  Instances 100 Variables\n",
      "Loaded file: ./data/distributed/erdos_renyi/d100_p0.02/m5_d1.0_n10/silo-3.csv\t2500  Instances 100 Variables\n",
      "Loaded file: ./data/distributed/erdos_renyi/d100_p0.02/m5_d1.0_n10/silo-4.csv\t2500  Instances 100 Variables\n",
      "Loaded file: ./data/distributed/erdos_renyi/d100_p0.02/m5_d1.0_n10/silo-5.csv\t2500  Instances 100 Variables\n",
      "Loaded file: ./data/distributed/erdos_renyi/d100_p0.02/m5_d1.0_n10/silo-6.csv\t2500  Instances 100 Variables\n",
      "Loaded file: ./data/distributed/erdos_renyi/d100_p0.02/m5_d1.0_n10/silo-7.csv\t2500  Instances 100 Variables\n",
      "Loaded file: ./data/distributed/erdos_renyi/d100_p0.02/m5_d1.0_n10/silo-8.csv\t2500  Instances 100 Variables\n",
      "Loaded file: ./data/distributed/erdos_renyi/d100_p0.02/m5_d1.0_n10/silo-9.csv\t2500  Instances 100 Variables\n",
      "Num edges: 194.0\n"
     ]
    }
   ],
   "source": [
    "import pandas as pd\n",
    "from utils.upgrade import *\n",
    "from causallearn.utils.cit import CIT\n",
    "import numpy as np\n",
    "from pathlib import Path\n",
    "import os\n",
    "from tqdm import tqdm\n",
    "from copy import deepcopy\n",
    "\n",
    "# dataname = \"munin1\"\n",
    "dataname = \"erdos_renyi/d100_p0.02\"\n",
    "mi = 5      # The number of values a variable can take is ranged in [2, mi-1]\n",
    "di = 1.0      # The dirichlet alpha that controls the data distribution\n",
    "n = 10      # The number of data silos\n",
    "\n",
    "silos = []\n",
    "\n",
    "folderpath = f\"./data/distributed/{dataname}/m{mi}_d{di}_n{n}\"\n",
    "groundtruth = np.loadtxt(f\"./data/distributed/{dataname}/adj.txt\")\n",
    "\n",
    "if not Path(folderpath).exists():\n",
    "    print(\"Folder\", folderpath, \"not exist!\")\n",
    "else:\n",
    "    for file in sorted(os.listdir(folderpath)):\n",
    "        filename = os.path.join(folderpath, file)\n",
    "        silo_data = pd.read_csv(filename)\n",
    "        silos.append(silo_data)\n",
    "        print(\"Loaded file:\", filename, end=\"\\t\")\n",
    "        print(len(silo_data), \" Instances\", len(silo_data.columns), \"Variables\")\n",
    "\n",
    "merged_df = pd.concat(silos, axis=0)\n",
    "merged_df = merged_df.reindex(sorted(merged_df.columns, key=lambda item: int(item[1:])), axis=1)\n",
    "all_vars = list(merged_df.columns)\n",
    "\n",
    "print(\"Num edges:\", np.sum(groundtruth))"
   ]
  },
  {
   "cell_type": "code",
   "execution_count": 2,
   "metadata": {},
   "outputs": [
    {
     "data": {
      "application/vnd.jupyter.widget-view+json": {
       "model_id": "5bc97a537a1e44988b4207703e6b5a81",
       "version_major": 2,
       "version_minor": 0
      },
      "text/plain": [
       "  0%|          | 0/101 [00:00<?, ?it/s]"
      ]
     },
     "metadata": {},
     "output_type": "display_data"
    }
   ],
   "source": [
    "from causallearn.search.ConstraintBased.CDNOD import cdnod\n",
    "from baselines.FL_FedCDH.mycausallearn.utils.data_utils import get_cpdag_from_cdnod, get_dag_from_pdag\n",
    "from causallearn.utils.cit import fisherz\n",
    "\n",
    "c_indx = np.repeat(range(1, n + 1), len(silos[0])).reshape(-1, 1).astype(float)\n",
    "cg = cdnod(merged_df.to_numpy(), c_indx, 0.05, fisherz)\n",
    "\n",
    "est_graph = cg.G.graph[0:len(all_vars), 0:len(all_vars)]\n",
    "est_cpdag = get_cpdag_from_cdnod(est_graph) # est_graph[i,j]=-1 & est_graph[j,i]=1  ->  est_graph_cpdag[i,j]=1\n",
    "est_dag_from_pdag = get_dag_from_pdag(est_cpdag) # return a DAG from a PDAG in causaldag\n",
    "adj_mtx = get_dag_from_pdag(est_cpdag) # return a DAG from a PDAG in causaldag"
   ]
  },
  {
   "cell_type": "code",
   "execution_count": null,
   "metadata": {},
   "outputs": [],
   "source": [
    "def true_markov_blanket(adj_matrix, var_idx):\n",
    "    parents = np.where(adj_matrix[:, var_idx])[0].tolist()\n",
    "    children = np.where(adj_matrix[var_idx])[0].tolist()\n",
    "    \n",
    "    spouses = set()\n",
    "    for c in children:\n",
    "        for sp in np.where(adj_matrix[:, c])[0]:\n",
    "            spouses.add(sp)\n",
    "    \n",
    "    pa_sp = list(set(parents)&spouses - set(parents))\n",
    "    ch_sp = list(set(children)&spouses - set(children))\n",
    "    spouses = list(spouses - set(pa_sp) - set(ch_sp))\n",
    "    \n",
    "    return parents, pa_sp, spouses, ch_sp, children\n",
    "\n",
    "\n",
    "def to_list(all_vars, mb_idx_list):\n",
    "    return [all_vars[i] for i in mb_idx_list]"
   ]
  },
  {
   "cell_type": "code",
   "execution_count": null,
   "metadata": {},
   "outputs": [],
   "source": [
    "confidence = 0.05\n",
    "connectivity = {var: [] for var in all_vars}\n",
    "chisq_obj = CIT(merged_df, \"chisq\")\n",
    "\n",
    "for X in connectivity.keys():\n",
    "    other_vars = list(set(all_vars) - set(connectivity[X]) - set([X]))\n",
    "    for Y in other_vars:\n",
    "        pval = chisq_obj(all_vars.index(X), all_vars.index(Y), []) # type: ignore\n",
    "        if pval <= confidence: # type: ignore\n",
    "            connectivity[X] = list(set(connectivity[X]) | set([Y]))\n",
    "            connectivity[Y] = list(set(connectivity[Y]) | set([X]))"
   ]
  },
  {
   "cell_type": "code",
   "execution_count": null,
   "metadata": {},
   "outputs": [],
   "source": [
    "# connectivity['X2']"
   ]
  },
  {
   "cell_type": "code",
   "execution_count": null,
   "metadata": {},
   "outputs": [],
   "source": [
    "basis = []\n",
    "ordering = sorted(all_vars, key=lambda item: len(connectivity[item]), reverse=False)\n",
    "\n",
    "while len(ordering):\n",
    "    x = ordering.pop(0)\n",
    "    discard_vars = connectivity[x]\n",
    "    ordering = sorted(list(set(ordering) - set(discard_vars)), \n",
    "                    key=lambda item: len(list(set(connectivity[item]) - set(discard_vars))), reverse=False)\n",
    "    basis.append(x)\n",
    "    \n",
    "# basis"
   ]
  },
  {
   "cell_type": "code",
   "execution_count": null,
   "metadata": {},
   "outputs": [],
   "source": [
    "from copy import deepcopy\n",
    "\n",
    "def GSMB(indexes, confidence=0.01):\n",
    "    data = merged_df.iloc[indexes].reset_index().drop(columns=['index'])\n",
    "    chisq_obj = CIT(data, \"chisq\") # construct a CIT instance with data and method name\n",
    "    all_var_idx = [i for i in range(len(data.columns))]\n",
    "    markov_blankets_idx = {i: [] for i in range(len(data.columns))}\n",
    "\n",
    "    for X in all_var_idx:\n",
    "        S = []\n",
    "        prev_length = 0\n",
    "        count = 0\n",
    "        while True:\n",
    "            count += 1\n",
    "            # print(\"==============New cycle==================\")\n",
    "            for Y in list(set(all_var_idx) - set(S) - set([X])):\n",
    "                if Y != X:\n",
    "                    pval = chisq_obj(X, Y, S) # type:ignore\n",
    "                    if pval <= confidence: # type:ignore\n",
    "                        S.append(Y)\n",
    "            \n",
    "            for Y in deepcopy(S):\n",
    "                pval = chisq_obj(X, Y, list(set(S) - set([Y]))) # type:ignore\n",
    "                if pval > confidence: # type:ignore\n",
    "                    S.remove(Y)\n",
    "            \n",
    "            if (len(S) - prev_length == 0) or (count > 2):\n",
    "                break\n",
    "            else:\n",
    "                prev_length = len(S)\n",
    "        markov_blankets_idx[X] = list(set(markov_blankets_idx[X])|set(S))\n",
    "    \n",
    "    markov_blankets = {var: [] for var in all_vars}\n",
    "    for idx, mb_idxes in markov_blankets_idx.items():\n",
    "        var = all_vars[idx]\n",
    "        markov_blankets[var] = [all_vars[i] for i in mb_idxes]\n",
    "    \n",
    "    return markov_blankets"
   ]
  },
  {
   "cell_type": "code",
   "execution_count": null,
   "metadata": {},
   "outputs": [],
   "source": [
    "TMB_activated = 1\n",
    "markov_blankets = {var: [] for var in all_vars}\n",
    "\n",
    "if TMB_activated:\n",
    "    for var in markov_blankets.keys():\n",
    "        pa, pa_sp, sp, ch_sp, ch = true_markov_blanket(groundtruth, int(var[1:]) - 1)\n",
    "        markov_blankets[var] = list(set(to_list(all_vars, pa + pa_sp + sp + ch_sp + ch)) - set([var]))\n",
    "else:\n",
    "    markov_blankets = GSMB([i for i in range(len(merged_df))])"
   ]
  },
  {
   "cell_type": "code",
   "execution_count": null,
   "metadata": {},
   "outputs": [],
   "source": [
    "def generate_uniform_distributions(P0: np.ndarray, num_gen=100, gamma2=0.8):\n",
    "    Ulist = list(np.eye(P0.shape[0]))\n",
    "    # Compute the boundary points\n",
    "    boundaries = []\n",
    "    for i in range(len(Ulist)):\n",
    "        if P0[i]/gamma2 < 1:\n",
    "            alpha_i = 1/(1 - P0[i]) * (1 - P0[i]/(gamma2 + 0.001))\n",
    "            boundary_i = alpha_i * P0 + (1 - alpha_i) * Ulist[i]\n",
    "        else:\n",
    "            boundary_i = Ulist[i]\n",
    "        boundaries.append(boundary_i)\n",
    "    \n",
    "    boundaries = np.stack(boundaries)\n",
    "    w = np.concatenate([np.random.dirichlet([alpha/2] * len(Ulist), size=num_gen) for alpha in range(1, 10)])\n",
    "    \n",
    "    kmeans = KMeans(n_clusters=num_gen, n_init=\"auto\")\n",
    "    kmeans.fit(w @ boundaries)\n",
    "    res = kmeans.cluster_centers_\n",
    "    \n",
    "    return res\n",
    "\n",
    "def multivariate_sampling(data: pd.DataFrame, variables: list, sample_dis: dict, instance_index):\n",
    "    remains = deepcopy(variables)\n",
    "    while len(remains):\n",
    "        sampling_var = remains.pop(0)\n",
    "        distribution = sample_dis[sampling_var][instance_index]\n",
    "        _, all_index = univariate_sampling(data, sampling_var, {i: distribution[i] for i in range(distribution.shape[0])})\n",
    "    return all_index"
   ]
  },
  {
   "cell_type": "code",
   "execution_count": null,
   "metadata": {},
   "outputs": [],
   "source": [
    "def unnested(input: list):\n",
    "    if len(input) == 1:\n",
    "        if isinstance(input[0], list):\n",
    "            return unnested(input[0])\n",
    "        else:\n",
    "            return input\n",
    "    else:\n",
    "        nested_loc = [i for i in range(len(input)) if isinstance(input[i], list)]\n",
    "        while len(nested_loc):\n",
    "            i = nested_loc.pop(0)\n",
    "            input += [*input[i]]\n",
    "            input.pop(i)\n",
    "            nested_loc = [i for i in range(len(input)) if isinstance(input[i], list)]\n",
    "        return list(set(input))\n",
    "\n",
    "# test_input = ['X66']\n",
    "# unnested(test_input)"
   ]
  },
  {
   "cell_type": "code",
   "execution_count": null,
   "metadata": {},
   "outputs": [],
   "source": [
    "buffers = {}\n",
    "visited = []\n",
    "def recursive_conn(neighbors):   \n",
    "    output = []\n",
    "    if len(neighbors) <= 1:\n",
    "        output = [neighbors]\n",
    "    else:\n",
    "        for i in neighbors:\n",
    "            key = sorted(list(set(neighbors)&set(markov_blankets[i])))\n",
    "            if tuple(key) in buffers.keys():\n",
    "                # print(\"Here in\", i)\n",
    "                res_i = [i] + buffers[tuple(key)]\n",
    "            else:\n",
    "                # print(\"Here recur\", i)\n",
    "                val = recursive_conn(key)\n",
    "                buffers[tuple(key)] = val\n",
    "                res_i = [i] + val\n",
    "\n",
    "            visit_key = tuple(sorted(unnested(deepcopy(res_i))))\n",
    "            if visit_key not in visited:\n",
    "                # print(visit_key)\n",
    "                output.append(res_i)\n",
    "                visited.append(visit_key)\n",
    "    return output\n",
    "\n",
    "\n",
    "def unfold(input):\n",
    "    \"\"\"\n",
    "    Arguments:\n",
    "      input: [var, var, ..., [var, ...], [var, ...]]\n",
    "\n",
    "    that has a number of non-list element and a number of list element\n",
    "    \"\"\"\n",
    "    cut_index = 0\n",
    "    while cut_index < len(input):\n",
    "      cut_index += 1\n",
    "      if isinstance(input[cut_index], list):\n",
    "        break\n",
    "\n",
    "    out = []\n",
    "    for i in range(cut_index, len(input)):\n",
    "      out.append([*input[:cut_index], *input[i]])\n",
    "    \n",
    "    return out"
   ]
  },
  {
   "cell_type": "code",
   "execution_count": null,
   "metadata": {},
   "outputs": [],
   "source": [
    "recursive_outputs = {}\n",
    "\n",
    "for anchor_var in all_vars:\n",
    "    buffers.clear()\n",
    "    visited.clear()\n",
    "    recursive_outputs[anchor_var] = recursive_conn(deepcopy(markov_blankets[anchor_var]))"
   ]
  },
  {
   "cell_type": "code",
   "execution_count": null,
   "metadata": {},
   "outputs": [],
   "source": [
    "def removes_irrelevant(df, var, plausible_set, confidence=0.01):\n",
    "    subdata = df[[var, *plausible_set]]\n",
    "    all_var = list(subdata.columns)\n",
    "    all_var_idx = [i for i in range(len(all_var))]\n",
    "    chisq_obj = CIT(subdata, 'chisq')\n",
    "    \n",
    "    X = all_var.index(var)\n",
    "    S = []\n",
    "    prev_length = 0\n",
    "    count = 0\n",
    "    while True:\n",
    "        count += 1\n",
    "        for Y in deepcopy(S):\n",
    "            pval = chisq_obj(X, Y, list(set(S) - set([Y]))) # type:ignore\n",
    "            if pval > confidence: # type:ignore\n",
    "                S.remove(Y)\n",
    "                \n",
    "        for Y in list(set(all_var_idx) - set(S) - set([X])):\n",
    "            if Y != X:\n",
    "                pval = chisq_obj(X, Y, S) # type:ignore\n",
    "                if pval <= confidence: # type:ignore\n",
    "                    S.append(Y)\n",
    "                    \n",
    "        if (len(S) - prev_length == 0) or (count > 10):\n",
    "            break\n",
    "        else:\n",
    "            prev_length = len(S)\n",
    "        \n",
    "    return [all_var[i] for i in S]"
   ]
  },
  {
   "cell_type": "code",
   "execution_count": null,
   "metadata": {},
   "outputs": [],
   "source": [
    "potential_parents = {}\n",
    "for anchor_var in markov_blankets.keys():\n",
    "    recursive_output = recursive_outputs[anchor_var]\n",
    "    final_output = set()\n",
    "    for i in range(len(recursive_output)):\n",
    "        test_case = deepcopy(recursive_output[i])\n",
    "        unique_elements = set()\n",
    "        if len(test_case) <= 1:\n",
    "            unique_elements.add(tuple(test_case))\n",
    "        else:\n",
    "            first_element = test_case.pop(0)\n",
    "            while len(test_case):\n",
    "                examine_group = test_case.pop(0)\n",
    "                if len(examine_group) and not isinstance(examine_group[0], list) and isinstance(examine_group[-1], list):\n",
    "                    test_case += [*unfold(examine_group)]\n",
    "                else:\n",
    "                    unique_elements.add(tuple(sorted(examine_group + [first_element])))\n",
    "                \n",
    "        final_output = final_output|unique_elements\n",
    "    potential_parents[anchor_var] = [removes_irrelevant(merged_df, anchor_var, j, 0.05) for j in final_output]"
   ]
  },
  {
   "cell_type": "code",
   "execution_count": null,
   "metadata": {},
   "outputs": [],
   "source": [
    "groundtruth_dict = {}\n",
    "for var in all_vars:\n",
    "    var_id = all_vars.index(var)\n",
    "    pa, pa_sp, sp, ch_sp, ch = true_markov_blanket(groundtruth, var_id)\n",
    "    groundtruth_dict[var] = [all_vars[i] for i in pa + pa_sp]"
   ]
  },
  {
   "cell_type": "code",
   "execution_count": null,
   "metadata": {},
   "outputs": [],
   "source": [
    "for var in all_vars:\n",
    "    checked = []\n",
    "    for po in potential_parents[var]:\n",
    "        checked.append(set(groundtruth_dict[var]) & set(po) == set(groundtruth_dict[var]))\n",
    "    \n",
    "    if True in checked:\n",
    "        # print(var, \"True\")\n",
    "        pass\n",
    "    else:\n",
    "        print(var, \"False\", groundtruth_dict[var])\n",
    "        \n",
    "        # break"
   ]
  },
  {
   "cell_type": "code",
   "execution_count": null,
   "metadata": {},
   "outputs": [],
   "source": [
    "def compute_variance_viaindexesv2(indexes: list, variable: str, parents: list):\n",
    "    conditional_probs_record = merged_df[parents + [variable]].groupby(parents + [variable]).count().reset_index()\n",
    "    mll_list = []\n",
    "    env = 0\n",
    "    for index in indexes:\n",
    "        vertical_sampled_data = merged_df.iloc[index].reset_index()\n",
    "        vertical_sampled_data = vertical_sampled_data.drop(columns=['index'])\n",
    "        vertical_sampled_data.insert(0, 'count', [1] * len(vertical_sampled_data))\n",
    "        \n",
    "        summary_with_ch = vertical_sampled_data.groupby(parents + [variable])['count'].sum().reset_index()\n",
    "        mll, output = compute_mll(summary_with_ch, parents, env)\n",
    "        conditional_probs_record = conditional_probs_record.merge(output, on=parents + [variable], how='left')\n",
    "        mll_list.append(mll)\n",
    "        env += 1\n",
    "    \n",
    "    mean_mll = np.mean(mll_list)\n",
    "    var_avg = conditional_probs_record.iloc[:, len(parents) + 1:].var(axis=1, skipna=True).mean()\n",
    "    return var_avg, mean_mll, conditional_probs_record\n",
    "\n",
    "\n",
    "def compute_weighted_variance_viaindexesv2(indexes: list, variable: str, parents: list):\n",
    "    variance, _, df = compute_variance_viaindexesv2(indexes, variable, parents)\n",
    "    if len(parents):\n",
    "        joint_mat = np.array([df[f'joint_{i}'] for i in range(len(indexes))]).T\n",
    "        probs_mat = np.array([df[f'probs_{i}'] for i in range(len(indexes))]).T\n",
    "        probs_mean = []\n",
    "        for i in range(probs_mat.shape[0]):\n",
    "            if len(probs_mat[i][~np.isnan(probs_mat[i])]):\n",
    "                probs_mean.append(np.mean(probs_mat[i][~np.isnan(probs_mat[i])]).item())\n",
    "            else:\n",
    "                probs_mean.append(0)\n",
    "                \n",
    "        probs_mean = np.expand_dims(np.array(probs_mean), 1)\n",
    "        # joint_mat = joint_mat.shape[1] * joint_mat/joint_mat.sum(axis=1, keepdims=True)\n",
    "        prod = joint_mat * (probs_mat - probs_mean)**2\n",
    "        return np.power(np.mean(prod[~np.isnan(prod)]), 0.5), parents\n",
    "    else:\n",
    "        return variance, parents"
   ]
  },
  {
   "cell_type": "markdown",
   "metadata": {},
   "source": [
    "#### Version 2 -- Given the leaves"
   ]
  },
  {
   "cell_type": "code",
   "execution_count": null,
   "metadata": {},
   "outputs": [],
   "source": [
    "from multiprocessing import Pool\n",
    "from typing import List, Tuple\n",
    "\n",
    "\n",
    "def individual_causal_search(var, silos_index):\n",
    "    record = {}\n",
    "    for mb_var in markov_blankets[var]:\n",
    "        variance, _ = compute_weighted_variance_viaindexesv2(silos_index, var, [mb_var])\n",
    "        record[tuple([mb_var])] = variance\n",
    "    return {var: record}\n",
    "\n",
    "\n",
    "# Function to execute F in parallel\n",
    "def execute_in_parallel(args_list: List[Tuple]):\n",
    "    with Pool() as pool:\n",
    "        # Map the function F to the arguments in parallel\n",
    "        results = pool.starmap(individual_causal_search, args_list)\n",
    "    return results"
   ]
  },
  {
   "cell_type": "code",
   "execution_count": null,
   "metadata": {},
   "outputs": [],
   "source": [
    "leaves = ['X8']"
   ]
  },
  {
   "cell_type": "code",
   "execution_count": null,
   "metadata": {},
   "outputs": [],
   "source": [
    "num_env = 10\n",
    "gamma2 = 0.5\n",
    "\n",
    "sample_dis = {x: generate_uniform_distributions(P0=marginal_prob(merged_df, [x]),\n",
    "                                                num_gen=num_env, \n",
    "                                                gamma2=np.power(gamma2, 1./len(leaves))) for x in leaves}\n",
    "silos_index = [multivariate_sampling(merged_df, leaves, sample_dis, i) for i in range(num_env)]\n",
    "\n",
    "inputs = [(var, silos_index) for var in markov_blankets.keys()]\n",
    "outputs = execute_in_parallel(inputs)\n",
    "\n",
    "results = tuple()\n",
    "for out_dict in outputs:\n",
    "    results += tuple(out_dict.items())\n",
    "\n",
    "results = dict(results)"
   ]
  },
  {
   "cell_type": "code",
   "execution_count": null,
   "metadata": {},
   "outputs": [],
   "source": [
    "weighted_mtx = np.ones([len(all_vars), len(all_vars)])\n",
    "\n",
    "for var in results.keys(): #type:ignore\n",
    "    if len(results[var].items()):\n",
    "        var_id = all_vars.index(var)\n",
    "        best_comb, best_variance = min(results[var].items(), key=lambda item: item[1])\n",
    "        # print(var, best_comb, best_variance)\n",
    "        for parent in best_comb:\n",
    "            pa_id = all_vars.index(parent)\n",
    "            if best_variance < weighted_mtx[var_id][pa_id]:\n",
    "                weighted_mtx[pa_id][var_id] = best_variance\n",
    "                weighted_mtx[var_id][pa_id] = 1"
   ]
  },
  {
   "cell_type": "code",
   "execution_count": null,
   "metadata": {},
   "outputs": [],
   "source": [
    "weighted_mtx[weighted_mtx == 1] = 0\n",
    "adj_mtx = (weighted_mtx > 0) * 1\n",
    "adj_mtx = adj_mtx.T\n",
    "# adj_mtx"
   ]
  },
  {
   "cell_type": "code",
   "execution_count": null,
   "metadata": {},
   "outputs": [],
   "source": [
    "from plot_utils import true_edge, spur_edge, fals_edge, miss_edge, swap_pos\n",
    "\n",
    "etrue = true_edge(groundtruth, adj_mtx)\n",
    "espur = spur_edge(groundtruth, adj_mtx)\n",
    "efals = fals_edge(groundtruth, adj_mtx)\n",
    "emiss = miss_edge(groundtruth, adj_mtx)\n",
    "\n",
    "print(len(etrue), len(espur), len(emiss), len(efals))"
   ]
  },
  {
   "cell_type": "code",
   "execution_count": null,
   "metadata": {},
   "outputs": [],
   "source": [
    "sources_idx = np.array([i for i in range(len(all_vars)) if np.sum(adj_mtx[:, i]) == 0])\n",
    "sources = np.array(all_vars)[sources_idx].tolist()\n",
    "sources = list(set(sources) - set(basis))\n",
    "sources"
   ]
  },
  {
   "cell_type": "markdown",
   "metadata": {},
   "source": [
    "#### Version 1 -- Given the sources"
   ]
  },
  {
   "cell_type": "code",
   "execution_count": null,
   "metadata": {},
   "outputs": [],
   "source": [
    "# sources_idx = [i for i in range(groundtruth.shape[0]) if np.sum(groundtruth[:,i]) == 0]\n",
    "# sources = np.array(all_vars)[sources_idx].tolist()\n",
    "# sources"
   ]
  },
  {
   "cell_type": "code",
   "execution_count": null,
   "metadata": {},
   "outputs": [],
   "source": [
    "from multiprocessing import Pool\n",
    "from typing import List, Tuple\n",
    "\n",
    "\n",
    "def individual_causal_searchv2(var, silos_index):\n",
    "    buffers = {}\n",
    "    print(var, len(potential_parents[var]))\n",
    "    for group in potential_parents[var]:\n",
    "        conn_group = list(set(connectivity[var])&set(group))\n",
    "        # print(\"Applied Connectivity:\", group, \"-->\", conn_group)\n",
    "        cleaned_group = removes_irrelevant(merged_df, var, conn_group)\n",
    "        # print(\"Group:\", conn_group, \"-->\", cleaned_group)\n",
    "        if len(cleaned_group):\n",
    "            # variance, _, _ = compute_variance_viaindexesv2(silos_index, var, cleaned_group)\n",
    "            variance, _ = compute_weighted_variance_viaindexesv2(silos_index, var, cleaned_group)\n",
    "            buffers[tuple(cleaned_group)] = variance\n",
    "    return {var: buffers}\n",
    "\n",
    "\n",
    "# Function to execute F in parallel\n",
    "def execute_in_parallel(args_list: List[Tuple]):\n",
    "    with Pool() as pool:\n",
    "        # Map the function F to the arguments in parallel\n",
    "        results = pool.starmap(individual_causal_searchv2, args_list)\n",
    "    return results"
   ]
  },
  {
   "cell_type": "code",
   "execution_count": null,
   "metadata": {},
   "outputs": [],
   "source": [
    "num_env = 10\n",
    "gamma2 = 0.5\n",
    "\n",
    "sample_dis = {x: generate_uniform_distributions(P0=marginal_prob(merged_df, [x]),\n",
    "                                                num_gen=num_env, \n",
    "                                                gamma2=np.power(gamma2, 1./len(basis))) for x in basis}\n",
    "silos_index = [multivariate_sampling(merged_df, basis, sample_dis, i) for i in range(num_env)]"
   ]
  },
  {
   "cell_type": "code",
   "execution_count": null,
   "metadata": {},
   "outputs": [],
   "source": [
    "inputs = [(var, silos_index) for var in markov_blankets.keys()]\n",
    "outputs = execute_in_parallel(inputs)\n",
    "\n",
    "results = tuple()\n",
    "for out_dict in outputs:\n",
    "    results += tuple(out_dict.items())\n",
    "\n",
    "results = dict(results)"
   ]
  },
  {
   "cell_type": "code",
   "execution_count": null,
   "metadata": {},
   "outputs": [],
   "source": [
    "weighted_mtx = np.ones([len(all_vars), len(all_vars)])\n",
    "\n",
    "for var in results.keys(): #type:ignore\n",
    "    var_id = all_vars.index(var)\n",
    "    if len(results[var].items()):\n",
    "        best_comb, best_variance = min(results[var].items(), key=lambda item: item[1])\n",
    "        # print(var, best_comb, best_variance)\n",
    "        \n",
    "        for parent in best_comb:\n",
    "            pa_id = all_vars.index(parent)\n",
    "            if best_variance < weighted_mtx[var_id][pa_id]:\n",
    "                weighted_mtx[pa_id][var_id] = best_variance\n",
    "                weighted_mtx[var_id][pa_id] = 1"
   ]
  },
  {
   "cell_type": "code",
   "execution_count": null,
   "metadata": {},
   "outputs": [],
   "source": [
    "hardcap_invariance = 1e-3\n",
    "weighted_mtx[weighted_mtx > hardcap_invariance] = 0\n",
    "adj_mtx = (weighted_mtx > 0) * 1\n",
    "# adj_mtx"
   ]
  },
  {
   "cell_type": "code",
   "execution_count": 3,
   "metadata": {},
   "outputs": [
    {
     "name": "stdout",
     "output_type": "stream",
     "text": [
      "63 139 70 61\n"
     ]
    }
   ],
   "source": [
    "from utils.plot_utils import true_edge, spur_edge, fals_edge, miss_edge, swap_pos\n",
    "\n",
    "etrue = true_edge(groundtruth, adj_mtx)\n",
    "espur = spur_edge(groundtruth, adj_mtx)\n",
    "efals = fals_edge(groundtruth, adj_mtx)\n",
    "emiss = miss_edge(groundtruth, adj_mtx)\n",
    "\n",
    "print(len(etrue), len(espur), len(emiss), len(efals))"
   ]
  },
  {
   "cell_type": "markdown",
   "metadata": {},
   "source": [
    "#### Left-out code"
   ]
  },
  {
   "cell_type": "code",
   "execution_count": null,
   "metadata": {},
   "outputs": [],
   "source": [
    "inv_var = 'X2'\n",
    "pa, pa_sp, sp, ch_sp, ch = true_markov_blanket(groundtruth, int(inv_var[1:]) - 1)\n",
    "print(\"Pa:\", to_list(all_vars, pa))\n",
    "print(\"Pa-Sp:\", to_list(all_vars, pa_sp))\n",
    "print(\"Sp:\", to_list(all_vars, sp))\n",
    "print(\"Ch-Sp:\", to_list(all_vars, ch_sp))\n",
    "print(\"Ch:\", to_list(all_vars, ch))"
   ]
  },
  {
   "cell_type": "code",
   "execution_count": null,
   "metadata": {},
   "outputs": [],
   "source": [
    "for var in results.keys(): #type:ignore\n",
    "    best_comb, best_variance = min(results[var].items(), key=lambda item: item[1])\n",
    "    print(var, \"\\t\", groundtruth_dict[var], \"\\t\", best_comb, \"\\t\", best_variance)"
   ]
  },
  {
   "cell_type": "markdown",
   "metadata": {},
   "source": [
    "#### Plot -- Graphs"
   ]
  },
  {
   "cell_type": "code",
   "execution_count": null,
   "metadata": {},
   "outputs": [],
   "source": [
    "import matplotlib.pyplot as plt\n",
    "import networkx as nx\n",
    "\n",
    "G = nx.DiGraph()\n",
    "\n",
    "fin_adjmtx = adj_mtx\n",
    "\n",
    "for i in range(fin_adjmtx.shape[0]):\n",
    "    for j in range(fin_adjmtx.shape[1]):\n",
    "        if fin_adjmtx[i][j] > 0:\n",
    "            G.add_edge(f\"X{i+1}\", f\"X{j+1}\", weight=np.round(1/fin_adjmtx[i][j],2))\n",
    "            # print(\"Here add edge\", f\"X{i+1}\", f\"X{j+1}\")\n",
    "    G.add_node(f\"X{i+1}\")\n",
    "    \n",
    "\n",
    "etrue = true_edge(groundtruth, fin_adjmtx)\n",
    "espur = spur_edge(groundtruth, fin_adjmtx)\n",
    "efals = fals_edge(groundtruth, fin_adjmtx)\n",
    "emiss = miss_edge(groundtruth, fin_adjmtx)\n",
    "\n",
    "# print(etrue)\n",
    "print(len(etrue), len(espur), len(emiss), len(efals))\n",
    "\n",
    "pos = nx.shell_layout(G)\n",
    "pos = swap_pos(pos, 'X4', 'X3')\n",
    "# pos = swap_pos(pos, 'X3', 'X5')\n",
    "\n",
    "# nodes\n",
    "nx.draw_networkx_nodes(G, pos, node_size=400, node_color=\"#1f78b4\")\n",
    "\n",
    "# edges\n",
    "nx.draw_networkx_edges(G, pos, edgelist=espur, width=2, arrowstyle='->', arrowsize=20, edge_color=\"orange\", label=\"Spurious Edges\")\n",
    "nx.draw_networkx_edges(G, pos, edgelist=emiss, width=2, arrowstyle='->', arrowsize=20, edge_color=\"purple\", label=\"Missing Edges\")\n",
    "nx.draw_networkx_edges(G, pos, edgelist=efals, width=2, arrowstyle='->', arrowsize=20, edge_color=\"red\", label=\"Anti-Causal Edges\")\n",
    "nx.draw_networkx_edges(G, pos, edgelist=etrue, width=2, arrowstyle='->', arrowsize=20, edge_color=\"green\", label=\"Causal Edges\")\n",
    "\n",
    "# node labels\n",
    "nx.draw_networkx_labels(G, pos, font_size=12, font_family=\"sans-serif\", font_color='white')\n",
    "\n",
    "# edge weight labels\n",
    "# edge_labels = nx.get_edge_attributes(G, \"weight\")\n",
    "# nx.draw_networkx_edge_labels(G, pos, edge_labels)\n",
    "\n",
    "ax = plt.gca()\n",
    "ax.margins(0.08)\n",
    "plt.axis(\"off\")\n",
    "plt.tight_layout()\n",
    "# plt.box()\n",
    "plt.title(dataname.upper())\n",
    "# plt.legend()\n",
    "plt.show()\n",
    "\n",
    "# plt.savefig(\"res/asia.plot.svg\", format=\"svg\")"
   ]
  },
  {
   "cell_type": "code",
   "execution_count": null,
   "metadata": {},
   "outputs": [],
   "source": []
  }
 ],
 "metadata": {
  "kernelspec": {
   "display_name": "easyFL",
   "language": "python",
   "name": "python3"
  },
  "language_info": {
   "codemirror_mode": {
    "name": "ipython",
    "version": 3
   },
   "file_extension": ".py",
   "mimetype": "text/x-python",
   "name": "python",
   "nbconvert_exporter": "python",
   "pygments_lexer": "ipython3",
   "version": "3.8.18"
  }
 },
 "nbformat": 4,
 "nbformat_minor": 2
}
